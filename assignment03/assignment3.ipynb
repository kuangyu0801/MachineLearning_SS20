{
 "cells": [
  {
   "cell_type": "markdown",
   "metadata": {},
   "source": [
    "# Assignment 3: Linear Regression\n",
    "\n",
    "Only use the already imported library `numpy` and the Python standard library. Make sure that the datasets `dataLinReg2D.txt`, `dataQuadReg2D.txt`, `dataQuadReg2D_noisy.txt` and `airfoil_self_noise.dat` are in the same directory as the notebook.\n",
    "\n",
    "List your team members (name and immatriculation number) and indicate whether you are a B.Sc. Data Science or other group in the following cell:"
   ]
  },
  {
   "cell_type": "markdown",
   "metadata": {},
   "source": [
    "Kuang-Yu Li, st169971@stud.uni-stuttgart.de, 3440829\n",
    "Ya-Jen Hsu, st169013@stud.uni-stuttgart.de, 3449448\n",
    "Gabriella Ilena, st169935@stud.uni-stuttgart.de, 3440942"
   ]
  },
  {
   "cell_type": "markdown",
   "metadata": {},
   "source": [
    "## Task 1: Ridge Regression for Polynomial 2D Functions\n",
    "\n",
    "Each line in the data sets consists of a data entry `(x,y)` with a 2D point `x` and a 1D function output `y`."
   ]
  },
  {
   "cell_type": "code",
   "execution_count": null,
   "metadata": {},
   "outputs": [],
   "source": [
    "# Load required packages and datasets. Do not modify.\n",
    "import numpy as np\n",
    "\n",
    "def load_dataset(path):\n",
    "    data = np.loadtxt(path)\n",
    "    X, y = data[:, :2], data[:, 2]\n",
    "    \n",
    "    return X, y\n",
    "    \n",
    "\n",
    "X_lin, y_lin = load_dataset(\"dataLinReg2D.txt\")\n",
    "X_quad, y_quad = load_dataset(\"dataQuadReg2D.txt\")\n",
    "X_noise, y_noise = load_dataset(\"dataQuadReg2D_noisy.txt\")"
   ]
  },
  {
   "cell_type": "markdown",
   "metadata": {},
   "source": [
    "1) Extend the `make_features` method to also compute quadratic features (`ftype = 'quad'`). You may also experiment with other feature transformations, e.g. third-order polynomials."
   ]
  },
  {
   "cell_type": "code",
   "execution_count": null,
   "metadata": {},
   "outputs": [],
   "source": [
    "def make_features(X, ftype='lin'):\n",
    "    n,d = X.shape\n",
    "    \n",
    "    if ftype == 'lin': # Linear feature transformation (including intercept)\n",
    "        Phi = np.empty((n, d+1))\n",
    "        Phi[:, 0] = 1\n",
    "        Phi[:, 1:] = X\n",
    "        \n",
    "    elif ftype == 'quad':  # Quadratic feature transformation\n",
    "        # Implement for task 1.1.\n",
    "        # Transform the features into quadratic form\n",
    "        # Array contains rows of the form: [1. x1 x2 x1^2 x1x2 x2^2]\n",
    "        col = int(d+1+d*(d+1)/2)\n",
    "        Phi = np.empty((n, col))\n",
    "        Phi[:, 0] = 1 # Intercept\n",
    "        Phi[:, 1:3] = X\n",
    "        Phi[:, 3] = X[:, 0]**2\n",
    "        Phi[:, 4] = X[:, 0] * X[:, 1]\n",
    "        Phi[:, 5 ] = X[:, 1]**2\n",
    "    \n",
    "    elif ftype == 'nasa':\n",
    "        # Implement for task 2.2.\n",
    "        pass\n",
    "    \n",
    "    else:\n",
    "        raise Exception('Feature type {} not implemented yet'.format(ftype))\n",
    "    \n",
    "    return Phi\n",
    "\n",
    "# A little testing, to be deleted soon\n",
    "result = make_features(X_quad, 'quad')"
   ]
  },
  {
   "cell_type": "markdown",
   "metadata": {},
   "source": [
    "2) Implement Ridge Regression to fit a polynomial function to the data sets with the regularization parameter `lambda_` and feature type `ftype`.\n",
    "\n",
    "Fill out the methods in `RidgeRegression` to train (`fit`) and predict (`predict`). Feel free to introduce new fields and methods based on your needs, but the methods `fit` and `predict` are required and their interface should not be changed. You need to store the vector of regression coefficients in the field `self.beta`."
   ]
  },
  {
   "cell_type": "code",
   "execution_count": null,
   "metadata": {},
   "outputs": [],
   "source": [
    "# Implement your solution here.\n",
    "class RidgeRegression(object):\n",
    "    def __init__(self, lambda_, ftype = 'lin'):\n",
    "        self.lambda_ = lambda_\n",
    "        self.ftype = ftype\n",
    "        self.beta = None  # Learned regression coefficients.\n",
    "    \n",
    "    def fit(self, X, y):\n",
    "        \"\"\"\n",
    "        X is an array of shape (n, d), \n",
    "            where n is the number of samples and d is the number of features.\n",
    "        y is an array of shape (n,)\n",
    "        \"\"\"\n",
    "        Phi = make_features(X, self.ftype)\n",
    "        \n",
    "        # Implement your solution here.\n",
    "        XT = np.transpose(Phi)\n",
    "        XTX = np.dot(XT, Phi)\n",
    "        XTy = np.dot(XT, y)\n",
    "        self.beta = np.linalg.solve(XTX+self.lambda_*np.eye(XTX.shape[0], dtype=float), XTy)\n",
    "        print(self.beta)\n",
    "        pass\n",
    "    \n",
    "    def predict(self, X):\n",
    "        \"\"\"\n",
    "        X is an array with shape (n, d).\n",
    "        The method returns an array of shape (n,).\n",
    "        \"\"\"\n",
    "        Phi = make_features(X, self.ftype)\n",
    "        \n",
    "        # Implement your solution here.\n",
    "        return  np.dot(Phi,self.beta)\n",
    "\n",
    "# test case\n",
    "# y_test = [33, 12, 26], beta = [1, 3, 5]\n",
    "RRTest = RidgeRegression(0)\n",
    "X_train = np.array([[1,5], [3,1], [6,9]])\n",
    "y_train = np.array([29, 15, 64])\n",
    "X_test = np.array([[4,4], [2,1], [5,2]])\n",
    "RRTest.fit(X_train, y_train)\n",
    "print(RRTest.predict(X_test))"
   ]
  },
  {
   "cell_type": "markdown",
   "metadata": {},
   "source": [
    "3) Implement the function `MSE` to compute the mean squared error. `y_pred` and `y_true` are the vectors of predicted and true function outputs respectively with shape `(n,)`, where `n` is the number of samples. The function returns a single float."
   ]
  },
  {
   "cell_type": "code",
   "execution_count": null,
   "metadata": {},
   "outputs": [],
   "source": [
    "def MSE(y_pred, y_true):\n",
    "    # Implement your solution here.\n",
    "    sum_err = 0.0\n",
    "\n",
    "    for i in range(y_true.shape[0]):\n",
    "        error = y_true[i] - y_pred[i]\n",
    "        sum_err += error**2\n",
    "    mse = sum_err / float(y_true.shape[0])\n",
    "\n",
    "    return mse\n",
    "\n",
    "# Test case\n",
    "y_pred_test = np.array([2, 4, 8])\n",
    "y_true_test = np.array([1.5, 3, 7])\n",
    "mse_test = MSE(y_pred_test, y_true_test)\n",
    "assert mse_test == 0.75, \"In this case, mse_test should return 0.75\""
   ]
  },
  {
   "cell_type": "markdown",
   "metadata": {},
   "source": [
    "4) Evaluate your Ridge Regression model with linear features on the linear `(X_lin, y_lin)` data set. Try to find a good `lambda_`. How does it perform with quadratic features on this data set? Report the MSE on the full data set when trained on the full data set. (Ideally, repeat this for different Ridge regularization parameters `lambda_` and generate a nice bar plot of the MSE for various `lambda_`.)"
   ]
  },
  {
   "cell_type": "code",
   "execution_count": null,
   "metadata": {},
   "outputs": [],
   "source": [
    "def train_evaluate(regression_model, X, y):\n",
    "    regression_model.fit(X, y)\n",
    "    yhat = regression_model.predict(X)\n",
    "    print('MSE:', MSE(yhat, y))\n",
    "\n",
    "    \n",
    "def plot_data_and_model(regression_model, X, y):\n",
    "    import matplotlib.pyplot as plt\n",
    "    from mpl_toolkits.mplot3d.axes3d import Axes3D\n",
    "    %matplotlib notebook\n",
    "    \n",
    "    fig = plt.figure()\n",
    "    ax = fig.add_subplot(111, projection = '3d')\n",
    "    ax.scatter(X[:, 0], X[:, 1], y, marker = 'o')\n",
    "    \n",
    "    xmin = X.min(0)\n",
    "    xmax = X.max(0)\n",
    "\n",
    "    x0grid, x1grid = np.mgrid[xmin[0]:xmax[0]:.3, xmin[1]:xmax[1]:.3]\n",
    "\n",
    "    xdim0, xdim1 = np.shape(x0grid)\n",
    "    xsize = np.size(x0grid)\n",
    "\n",
    "    x0hat = x0grid.flatten()\n",
    "    x1hat = x1grid.flatten()\n",
    "    x0hat = x0hat.reshape((np.size(x0hat), 1))\n",
    "    x1hat = x1hat.reshape((np.size(x1hat), 1))\n",
    "    xhat = np.append(x0hat, x1hat, 1)\n",
    "    xhatfv = make_features(xhat, regression_model.ftype)\n",
    "    yhat = xhatfv.dot(regression_model.beta)\n",
    "    ygrid = yhat.reshape((xdim0, xdim1))\n",
    "    ax.plot_wireframe(x0grid, x1grid, ygrid)\n",
    "    ax.auto_scale_xyz([xmin[0], xmax[0]], [xmin[1], xmax[1]], [y.min(), y.max()])\n",
    "    fig.show()\n",
    "\n",
    "    \n",
    "# Implement your solution here.\n",
    "regression_lin = RidgeRegression(lambda_=0.1, ftype='lin')\n",
    "train_evaluate(regression_lin, X_lin, y_lin)\n",
    "\n",
    "# If the plot doesn't show the first time, run this cell again\n",
    "plot_data_and_model(regression_lin, X_lin, y_lin)"
   ]
  },
  {
   "cell_type": "markdown",
   "metadata": {},
   "source": [
    "==> *Write your observations here and report your results.* (double klick here to edit)"
   ]
  },
  {
   "cell_type": "markdown",
   "metadata": {},
   "source": [
    "5) Try to find a good model (including features and suitable `lambda_` parameters) for the quadratic data set `(X_quad, y_quad)`. Report the MSE on the full data set when trained on the full data set.  (Ideally, repeat this for different Ridge regularization parameters `lambda_` and generate a nice bar plot of the MSE for various `lambda_`.) Also plot your predicted model using the method above `plot_data_and_model`."
   ]
  },
  {
   "cell_type": "code",
   "execution_count": null,
   "metadata": {},
   "outputs": [],
   "source": [
    "# Implement your model tests here using the quadratic data set"
   ]
  },
  {
   "cell_type": "markdown",
   "metadata": {},
   "source": [
    "==> *Write your observations here and report your results.* (double klick here to edit)"
   ]
  },
  {
   "cell_type": "markdown",
   "metadata": {},
   "source": [
    "6) Try to find a good model (including features and suitable `lambda_` parameters) for the noisy data set `(X_noise, y_noise)`. Report the MSE on the full data set when trained on the full data set.  (Ideally, repeat this for different Ridge regularization parameters `lambda_` and generate a nice bar plot of the MSE for various `lambda_`.) Also plot your predicted model using the method above `plot_data_and_model`."
   ]
  },
  {
   "cell_type": "code",
   "execution_count": null,
   "metadata": {},
   "outputs": [],
   "source": [
    "# Implement your model tests here using the noisy data set"
   ]
  },
  {
   "cell_type": "markdown",
   "metadata": {},
   "source": [
    "==> *Write your observations here and report your results.* (double klick here to edit)"
   ]
  },
  {
   "cell_type": "markdown",
   "metadata": {},
   "source": [
    "## Task 2: Airfoil Self-Noise Prediction\n",
    "\n",
    "The air self-noise dataset is a [dataset by NASA](https://archive.ics.uci.edu/ml/datasets/Airfoil+Self-Noise). Your task is to find a good feature mapping for ridge regression to achieve the lowest possible prediction error.\n",
    "\n",
    "1) Explain the content of the dataset in few words. What are the input features? What is the output?"
   ]
  },
  {
   "cell_type": "markdown",
   "metadata": {},
   "source": [
    "==> *Write your response here* (double klick here to edit)"
   ]
  },
  {
   "cell_type": "code",
   "execution_count": null,
   "metadata": {},
   "outputs": [],
   "source": [
    "def load_dataset(path):\n",
    "    data = np.genfromtxt(path)\n",
    "    X, y = data[:, :5], data[:, 5]\n",
    "    \n",
    "    return X, y\n",
    "    \n",
    "\n",
    "X, y = load_dataset('airfoil_self_noise.csv')"
   ]
  },
  {
   "cell_type": "markdown",
   "metadata": {},
   "source": [
    "2) Implement the option `ftype = 'nasa'` in the `make_features` function. You should try any type of non-linear features and interactions between features. You are not restricted to the feature mapping presented in the lecture. It is helpful to think about the domain and characteristics of the features, e.g. how do you work with periodic features.\n",
    "\n",
    "Explain the choice of your features:"
   ]
  },
  {
   "cell_type": "markdown",
   "metadata": {},
   "source": [
    "==> *Briefly explain your chosen features.* (double klick here to edit)"
   ]
  },
  {
   "cell_type": "markdown",
   "metadata": {},
   "source": [
    "3) Evaluate your Ridge Regression model with your chosen features on the data set. Try to find a good `lambda_`. Report the MSE on the full data set when trained on the full data set. (Ideally, repeat this for different Ridge regularization parameters `lambda_` and generate a nice bar plot of the MSE for various `lambda_`.)"
   ]
  },
  {
   "cell_type": "code",
   "execution_count": null,
   "metadata": {},
   "outputs": [],
   "source": [
    "def train_evaluate(regression_model, X, y):\n",
    "    from sklearn.model_selection import train_test_split\n",
    "    X_train, X_test, y_train, y_test = train_test_split(X, y, test_size=0.3, random_state=2020)\n",
    "    \n",
    "    regression_model.fit(X_train, y_train)\n",
    "    yhat_test = regression_model.predict(X_test)\n",
    "    print('MSE:', MSE(yhat_test, y_test))\n",
    "\n",
    "your_regression = RidgeRegression(lambda_=0.1, ftype='nasa')\n",
    "train_evaluate(your_regression, X, y)"
   ]
  },
  {
   "cell_type": "markdown",
   "metadata": {},
   "source": [
    "==> *Write your observations here and report your results.* (double klick here to edit)"
   ]
  },
  {
   "cell_type": "markdown",
   "metadata": {},
   "source": [
    "**For all students other than B.Sc. Data Science:**\n",
    "\n",
    "4) Implement the function `cross_validation` to evaluate the prediction error of your model. Report the mean squared error from cross-validation. (Ideally, repeat this for different Ridge regularization parameters `lambda_` and generate a nice bar plot of the MSE for various `lambda_`.)"
   ]
  },
  {
   "cell_type": "code",
   "execution_count": null,
   "metadata": {},
   "outputs": [],
   "source": [
    "def cross_validation(regression_model, X, y):\n",
    "    pass\n",
    "\n",
    "your_regression = RidgeRegression(lambda_=0.1, , ftype='nasa')\n",
    "cross_validation(your_regression, X, y)"
   ]
  },
  {
   "cell_type": "markdown",
   "metadata": {},
   "source": [
    "==> *Write your observations here and report your results.* (double klick here to edit)"
   ]
  }
 ],
 "metadata": {
  "kernelspec": {
   "display_name": "Python 3",
   "language": "python",
   "name": "python3"
  },
  "language_info": {
   "codemirror_mode": {
    "name": "ipython",
    "version": 3
   },
   "file_extension": ".py",
   "mimetype": "text/x-python",
   "name": "python",
   "nbconvert_exporter": "python",
   "pygments_lexer": "ipython3",
   "version": "3.8.0"
  }
 },
 "nbformat": 4,
 "nbformat_minor": 1
}