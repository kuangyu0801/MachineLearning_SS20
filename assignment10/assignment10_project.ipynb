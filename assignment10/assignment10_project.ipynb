{
 "cells": [
  {
   "cell_type": "markdown",
   "metadata": {
    "collapsed": true
   },
   "source": [
    "# Assignment 10: X-Ray Pneumonia Detection\n",
    "\n",
    "In this assignment, you are tasked with developing your own classifier for pneumonia in X-ray images. You will go through to the complete ML development cycle from loading and preprocessing your data to evaluating your models.\n",
    "\n",
    "[Download](https://ipvs.informatik.uni-stuttgart.de/cloud/s/XjwFgNdaRjPHkTp) and extract the X-Ray dataset from Ilias to the same directory as your Jupyter notebook. The data is already split into a training, validation, and testing set. The dataset originates from the paper [Identifying Medical Diagnoses and Treatable Diseases by Image-Based Deep Learning\n",
    "](https://www.cell.com/cell/fulltext/S0092-8674(18)30154-5).\n",
    "\n",
    "You may use any packages, we encountered during the exercises (numpy, matplotlib, scikit-learn, scikit-image, pandas, pytorch) as well as the Python standard library.\n",
    "\n",
    "You should (at least) address the following points in your development process:\n",
    "\n",
    "- The dataset is imbalanced. Do at least one of the following:\n",
    "    - Augment your dataset by including rotated, flipped, or brightened images. This will also improve the generalization capabilities of your model.\n",
    "    - or: Modify your objective function by weighting the classes differently.\n",
    "- Optimize the hyperparameters of your models using grid-search or random-search on the validation set.\n",
    "- Consider at least two classes of models, e.g. CNN and SVM. At least one of your model classes should be some type of neural network implemented in PyTorch.\n",
    "- After the hyperparameter optimization, select the best-performing models of each class. Evaluate these models on the testing data and visualize your results.\n",
    "\n",
    "\n",
    "*Note*: You have 2 weeks to complete this assignment. The assignment is optional for B.Sc.Data Science students, who have an alternative easier assignment 10 on clustering. If you already have successfully submitted 7 assignments, you do not need to submit this assignment.\n",
    "Presenting this assignment in a video counts as **2 video presentations**. Please indicate if you wish to present at the top of the notebook."
   ]
  },
  {
   "cell_type": "markdown",
   "metadata": {},
   "source": [
    "- *Put your names here*\n",
    "\n",
    "**Indicate here whether you want to present.**"
   ]
  },
  {
   "cell_type": "code",
   "execution_count": null,
   "metadata": {},
   "outputs": [],
   "source": []
  }
 ],
 "metadata": {
  "kernelspec": {
   "display_name": "Python 3",
   "language": "python",
   "name": "python3"
  },
  "language_info": {
   "codemirror_mode": {
    "name": "ipython",
    "version": 3
   },
   "file_extension": ".py",
   "mimetype": "text/x-python",
   "name": "python",
   "nbconvert_exporter": "python",
   "pygments_lexer": "ipython3",
   "version": "3.8.0"
  }
 },
 "nbformat": 4,
 "nbformat_minor": 1
}
