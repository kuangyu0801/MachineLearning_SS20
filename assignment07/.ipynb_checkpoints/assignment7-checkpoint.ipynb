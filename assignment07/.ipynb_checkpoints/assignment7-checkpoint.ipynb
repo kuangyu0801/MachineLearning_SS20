{
 "cells": [
  {
   "cell_type": "markdown",
   "metadata": {
    "colab_type": "text",
    "id": "g-N-AI8oyihg"
   },
   "source": [
    "# Assignment 7: Bagging and Boosting\n",
    "\n",
    "Only use the already imported library `numpy`, `matplotlib` and the Python standard library. For the evaluation you may also use scikit-learn (`sklearn`). Make sure that the dataset `titanic.csv` is in the same directory as the notebook.\n",
    "\n",
    "List your team members (name and immatriculation number) and indicate whether you are a B.Sc. Data Science or other group in the following cell:"
   ]
  },
  {
   "cell_type": "markdown",
   "metadata": {
    "colab_type": "text",
    "id": "jBxr8OAUyihi"
   },
   "source": [
    "Kuang-Yu Li, st169971@stud.uni-stuttgart.de, 3440829\n",
    "Ya-Jen Hsu, st169013@stud.uni-stuttgart.de, 3449448\n",
    "Gabriella Ilena, st169935@stud.uni-stuttgart.de, 3440942"
   ]
  },
  {
   "cell_type": "code",
   "execution_count": 6,
   "metadata": {
    "colab": {},
    "colab_type": "code",
    "id": "9497Isulyihj"
   },
   "outputs": [
    {
     "name": "stdout",
     "output_type": "stream",
     "text": [
      "(712, 15)\n",
      "[ 0.   20.    7.05  0.    0.    1.    0.    0.    0.    0.    1.    1.\n",
      "  0.    0.    1.  ]\n"
     ]
    }
   ],
   "source": [
    "# You are allowed to use the numpy package and the DecisionTreeClassifier.\n",
    "import matplotlib.pyplot as plt\n",
    "import numpy as np\n",
    "from sklearn.tree import DecisionTreeClassifier\n",
    "\n",
    "\n",
    "def load_dataset(path):\n",
    "    import pandas as pd\n",
    "    from sklearn.model_selection import train_test_split\n",
    "\n",
    "    df = pd.read_csv('titanic.csv')\n",
    "    # The feature engineering mostly follows the notebook by Manav Segal: https://www.kaggle.com/startupsci/titanic-data-science-solutions\n",
    "    # From the Name attribute we can extract titles, which gives insight about the social status/age/gender of the passenger.\n",
    "    df['Title'] = df['Name'].str.extract(' ([a-zA-Z]+)\\.', expand=False)\n",
    "    df['Title'] = df['Title'].replace(['Lady', 'Countess', 'Capt', 'Col', 'Don', 'Dr', 'Major', 'Rev', 'Sir', 'Jonkheer', 'Dona'], 'Rare')\n",
    "    df['Title'] = df['Title'].replace(['Mlle', 'Ms'], 'Miss')\n",
    "    df['Title'] = df['Title'].replace('Mme', 'Mrs')\n",
    "    # We map the Title attribute to a one-hot encoding.\n",
    "    df = df.join(pd.get_dummies(df['Title'], prefix='Title'))\n",
    "\n",
    "    # We map the Sex attribute to a numeric representation.\n",
    "    df['Sex'] = df['Sex'].map({'female': 1, 'male': 0}).astype(int)\n",
    "\n",
    "    # We one-hot encode Pclass.\n",
    "    df = df.join(pd.get_dummies(df['Pclass'], prefix='Pclass'))\n",
    "\n",
    "    # Based on the number of sibling-spouses in SibSp and parents-childern in Parch, \n",
    "    # we can determine whether a passenger was on board alone.\n",
    "    df['IsAlone'] = ((df['SibSp'] + df['Parch'] + 1) == 1).astype(int)\n",
    "\n",
    "    # We remove all attributes that do not seem relevant to the prediction, or are already encoded in another attribute.\n",
    "    df = df.drop(['PassengerId', 'Name', 'Title', 'Ticket', 'Cabin', 'Parch', 'SibSp'], axis=1)\n",
    "\n",
    "    # For remaining features, we have to separate train and test, \n",
    "    # as we will impute missing data based on statistics in the training data.\n",
    "    df_train, df_test = train_test_split(df, test_size=0.2, random_state=2020)\n",
    "    # For Embarked, we set all missing values to the most frequent port and then one-hot encode the attribute.\n",
    "    def impute_embarked():    \n",
    "        freq_port = df_train['Embarked'].dropna().mode()[0]\n",
    "        output = []\n",
    "        for df in (df_train, df_test):\n",
    "            df = df.join(pd.get_dummies(df['Embarked'].fillna(freq_port), prefix='Embarked'))\n",
    "            df = df.drop('Embarked', axis=1)\n",
    "            output.append(df)\n",
    "        return output\n",
    "\n",
    "    df_train, df_test = impute_embarked()\n",
    "\n",
    "    # For Age, we set missing values to the median dependent on the pair of Sex and Pclass.\n",
    "    guess_ages = np.zeros((2, 3))\n",
    "    for df in (df_train, df_test):\n",
    "        for i in range(2):\n",
    "            for j in range(3):\n",
    "                guess_ages[i, j] = df[(df['Sex'] == i) & (df['Pclass'] == j+1)]['Age'].dropna().median()\n",
    "        for i in range(2):\n",
    "            for j in range(3):\n",
    "                df.loc[(df['Age'].isnull()) & (df['Sex'] == i) & (df['Pclass'] == j+1), 'Age'] = guess_ages[i, j]\n",
    "        df['Age'] = df['Age'].astype(int)\n",
    "\n",
    "    df_train = df_train.drop(['Pclass'], axis=1)\n",
    "    df_test = df_test.drop(['Pclass'], axis=1)\n",
    "\n",
    "    X_train = df_train.values[:, 1:]\n",
    "    X_test = df_test.values[:, 1:]\n",
    "    y_train = df_train.values[:, 0]\n",
    "    y_test = df_test.values[:, 0]\n",
    "    \n",
    "    return X_train, X_test, y_train, y_test\n",
    "    \n",
    "X_train, X_test, y_train, y_test = load_dataset('titanic.csv')\n",
    "\n",
    "print (X_train.shape)\n",
    "print (X_train[0])"
   ]
  },
  {
   "cell_type": "markdown",
   "metadata": {
    "colab_type": "text",
    "id": "3vnpmlU8yihq"
   },
   "source": [
    "The Titanic dataset and a description can be found at [Kaggle](https://www.kaggle.com/c/titanic/data). The feature engineering mostly follows the work by [Manav Segal](https://www.kaggle.com/startupsci/titanic-data-science-solutions). \n",
    "\n",
    "The prepared dataset contains the following attributes:\n",
    "- Sex: binary (0 = Male, 1 = Female)\n",
    "- Age: integer\n",
    "- Fare: float\n",
    "- Title_{Master, Miss, Mr, Mrs, Rare}: title of passenger (extracted from name), binary, one-hot encoding of categorical variable Title\n",
    "- Pclass_{1, 2, 3}: ticket class corresponds to socio-economic status (1 = upper class, 2 = middle class, 3 = lower class), binary, one-hot encoding of categorical variable Pclass\n",
    "- IsAlone: whether the passenger has no siblings/spouses/parents/children on board, binary\n",
    "- Embarked_{C, Q, S}: port at which passenger embarked (C = Cherbourg, Q = Queenstown, S = Southampton), binary, one-hot encoding of categorical variable Embarked\n",
    "\n",
    "The classification target is:\n",
    "- Survived: binary\n",
    "\n",
    "Data is split into train-test with a 80-20 ratio yielding 712 training and 179 test samples. Train and test data is stored in the variables `(X_train, y_train)` and `(X_test, y_test)` respectively."
   ]
  },
  {
   "cell_type": "markdown",
   "metadata": {
    "colab_type": "text",
    "id": "6gLeIPHwyihr"
   },
   "source": [
    "## Task 1: Random Forest\n",
    "\n",
    "In this task, you will implement a random forest classifier using the scikit-learn implementation of the decision tree. \n",
    "\n",
    "Use bootstrap sampling and sample 20% of the original data set for each tree. Randomly select 6 attributes/columns for each trained tree. The prediction of each tree should be weighted equally in the majority vote. Use the already imported class `DecisionTreeClassifier` for your decision trees. You can find the decision tree documentation [here](https://scikit-learn.org/stable/modules/generated/sklearn.tree.DecisionTreeClassifier.html). You may use either the default parameters or experiment with different settings.\n",
    "\n",
    "You will evaluate your model on the test data using scikit-learn with the methods shown in the lecture ([precision, recall, F1-score](https://scikit-learn.org/stable/modules/generated/sklearn.metrics.precision_recall_fscore_support.html#sklearn.metrics.precision_recall_fscore_support), [confusion matrices](https://scikit-learn.org/stable/modules/generated/sklearn.metrics.confusion_matrix.html?highlight=confusion%20matrix#sklearn.metrics.confusion_matrix), ...). Try out different number of trees and compare the performance w.r.t. this parameter. Feel free to import any functions you need from scikit-learn for this purpose. \n"
   ]
  },
  {
   "cell_type": "code",
   "execution_count": 7,
   "metadata": {
    "colab": {},
    "colab_type": "code",
    "id": "2PJtkrVKyihs"
   },
   "outputs": [],
   "source": [
    "class RandomForestClassifier(object):\n",
    "    def __init__(self, number_of_trees):\n",
    "        self.number_of_trees = number_of_trees\n",
    "        # Add your code, such as initialization of trees here.\n",
    "\n",
    "        # Initialize decision tree\n",
    "        self.trees = list()\n",
    "        for i in range(self.number_of_trees):\n",
    "            self.trees.append(DecisionTreeClassifier(criterion='gini', max_features=6))\n",
    "    \n",
    "    def bootstrap(self, x_data, y_data, ratio):\n",
    "        # This function creates a bootstrapped dataset with random samples from the input data\n",
    "        x_bag = list()\n",
    "        y_bag = list()\n",
    "        nx_samples = round(len(x_data) * ratio)\n",
    "        ny_samples = round(len(y_data) * ratio)\n",
    "        for x in range(nx_samples):\n",
    "          index = np.random.randint(0, len(x_data))\n",
    "          x_bag.append(x_data[index])\n",
    "        for y in range(ny_samples):\n",
    "          index = np.random.randint(0, len(y_data))\n",
    "          y_bag.append(y_data[index])\n",
    "   \n",
    "        return x_bag, y_bag\n",
    "\n",
    "    def fit(self, X, y):\n",
    "        # Implement your training here.\n",
    "        # Fit each tree to different bootstrapped dataset\n",
    "        for i in range(self.number_of_trees):\n",
    "          x_sample, y_sample = self.bootstrap(X, y, 0.2)\n",
    "          self.trees[i].fit(x_sample, y_sample)\n",
    "    \n",
    "    def predict(self, X):\n",
    "        # Implement your prediction here.       \n",
    "        # Get votes for prediction in each tree\n",
    "        votes = dict()\n",
    "        for i in range(self.number_of_trees):\n",
    "          votes[i] = self.trees[i].predict(X)\n",
    "\n",
    "        # Count the frequency of class prediction for each sample in each tree; the most frequently voted class is the final prediction\n",
    "        counts = np.array([v for v in votes.values()]) # Change the dictionary to a numpy array\n",
    "        predictions = list()\n",
    "        freq = list()\n",
    "        for item in counts.T: # Transpose to allow access to each sample from all trees\n",
    "          (unique, counter) = np.unique(item, return_counts=True) # Count the frequency of class occurence in each tree's prediction\n",
    "          freq.append(counter)\n",
    "        freq = np.array(freq)\n",
    "\n",
    "        # Create list of predictions by taking the most frequent class\n",
    "        for count in freq:\n",
    "          predictions.append(np.argmax(count))\n",
    "        predictions = np.array(predictions).astype('float32')\n",
    "\n",
    "        assert predictions.shape == y_test.shape\n",
    "\n",
    "        return predictions"
   ]
  },
  {
   "cell_type": "code",
   "execution_count": 8,
   "metadata": {
    "colab": {
     "base_uri": "https://localhost:8080/",
     "height": 238
    },
    "colab_type": "code",
    "id": "FTBJGnFjyih8",
    "outputId": "35f5bc6e-cb71-45d1-ee1c-9ddda7883f96"
   },
   "outputs": [
    {
     "name": "stdout",
     "output_type": "stream",
     "text": [
      "Confusion matrix:\n",
      "[[96  9]\n",
      " [72  2]]\n",
      "Classification report:\n",
      "              precision    recall  f1-score   support\n",
      "\n",
      "         0.0       0.57      0.91      0.70       105\n",
      "         1.0       0.18      0.03      0.05        74\n",
      "\n",
      "    accuracy                           0.55       179\n",
      "   macro avg       0.38      0.47      0.38       179\n",
      "weighted avg       0.41      0.55      0.43       179\n",
      "\n"
     ]
    }
   ],
   "source": [
    "# Implement your training and evaluation here.\n",
    "model = RandomForestClassifier(30)\n",
    "model.fit(X_train, y_train)\n",
    "y_pred = model.predict(X_test)\n",
    "\n",
    "# Evaluating the model\n",
    "from sklearn.metrics import classification_report, confusion_matrix\n",
    "\n",
    "conf_matrix = confusion_matrix(y_test, y_pred)\n",
    "report = classification_report(y_test, y_pred)\n",
    "\n",
    "print(\"Confusion matrix:\")\n",
    "print(conf_matrix)\n",
    "print(\"Classification report:\")\n",
    "print(report)"
   ]
  },
  {
   "cell_type": "markdown",
   "metadata": {
    "colab_type": "text",
    "id": "No-sBZOqyiiB"
   },
   "source": [
    "## Task 2: Interpreting Random Forests\n",
    "\n",
    "Implement the mean decrease of accuracy for the [sklearn.ensemble.RandomForestClassifier](https://scikit-learn.org/stable/modules/generated/sklearn.ensemble.RandomForestClassifier.html) `forest` to analyse learned attribute importances. Use the test set `X_test` and `y_test` as out-of-bag-samples. Permute the values of the assessed attribute by randomly shuffling the corresponding column. Plot the results to compare the importance of each feature. Discuss your results (are any importance values surprising, do the results make sense in the context of the task, ...).\n",
    "\n",
    "Note: We have already trained the classifier and stored it in the variable `forest`. You only need to implement MDA and the plots for your results.\n",
    "\n",
    "Discussion: \n",
    "In using precision as a metric for MDA, we can observe that Sex, Title_Mr, Fare, Pclass_3, Age and Title_Miss are the top 6 attributes related to survival. In these 6 attributes, Sex, Title_Mr and Title_Miss are strongly correlated attributes, all of three are sexual type. Moreover, Fare, Pclass_2, are also strongly correlated attributes, all of three are indicator of wealthiness. For attributes Age and Title_Miss, they are also strongly correlated regarding the age.\n",
    "\n",
    "Therefore, we can boldly predict that people who are young, wealthy and men have better survival rate. This is quite intuitive to the logic of real world. On the other hand, location of embarkment has hardly any relation with survival rate. All three location has the same low MDA."
   ]
  },
  {
   "cell_type": "code",
   "execution_count": 9,
   "metadata": {
    "colab": {},
    "colab_type": "code",
    "id": "WDAym8y4yiiC",
    "outputId": "c3e8a9a7-d794-4809-c37f-d61263100198"
   },
   "outputs": [
    {
     "name": "stdout",
     "output_type": "stream",
     "text": [
      "Precision: [0.78632479 0.79032258]\n",
      "Recall: [0.87619048 0.66216216]\n",
      "F1-score: [0.82882883 0.72058824]\n"
     ]
    }
   ],
   "source": [
    "def create_forest():\n",
    "    import sklearn.ensemble\n",
    "    import sklearn.metrics\n",
    "    forest = sklearn.ensemble.RandomForestClassifier(8)\n",
    "    forest.fit(X_train, y_train)\n",
    "    prec, rec, f1, _ = sklearn.metrics.precision_recall_fscore_support(y_test, forest.predict(X_test))\n",
    "    print('Precision:', prec)\n",
    "    print('Recall:', rec)\n",
    "    print('F1-score:', f1)\n",
    "    return forest\n",
    "\n",
    "forest = create_forest()"
   ]
  },
  {
   "cell_type": "code",
   "execution_count": 24,
   "metadata": {
    "colab": {},
    "colab_type": "code",
    "id": "mxdoVPw5yiiI"
   },
   "outputs": [
    {
     "name": "stdout",
     "output_type": "stream",
     "text": [
      "Sex: 0.12191489361702129\n",
      "Fare: 0.07070921985815602\n",
      "Pclass_3: 0.06524822695035461\n",
      "Title_Mr: 0.054184397163120554\n",
      "Age: 0.03397163120567376\n",
      "Title_Miss: 0.027021276595744693\n",
      "Title_Master: 0.022765957446808534\n",
      "Embarked_S: 0.019929078014184403\n",
      "IsAlone: 0.018156028368794333\n",
      "Embarked_Q: 0.0014893617021276672\n",
      "Title_Rare: 0.0004964539007092215\n",
      "Pclass_1: -0.0018439716312056748\n",
      "Embarked_C: -0.006595744680851067\n",
      "Pclass_2: -0.010709219858156047\n",
      "Title_Mrs: -0.011276595744680878\n"
     ]
    },
    {
     "data": {
      "image/png": "[encoded data removed]",
      "text/plain": [
       "<Figure size 432x288 with 1 Axes>"
      ]
     },
     "metadata": {
      "needs_background": "light"
     },
     "output_type": "display_data"
    }
   ],
   "source": [
    "# Implement your solution here.\n",
    "import sklearn.metrics as sk_metric\n",
    "import collections\n",
    "\n",
    "attribute_dict = {\n",
    "    1: 'Sex',\n",
    "    2: 'Age',\n",
    "    3: 'Fare',\n",
    "    4: 'Title_Master',\n",
    "    5: 'Title_Miss',\n",
    "    6: 'Title_Mr',\n",
    "    7: 'Title_Mrs',\n",
    "    8: 'Title_Rare',\n",
    "    9: 'Pclass_1',\n",
    "    10: 'Pclass_2',\n",
    "    11: 'Pclass_3',\n",
    "    12: 'IsAlone',\n",
    "    13: 'Embarked_C',\n",
    "    14: 'Embarked_Q',\n",
    "    15: 'Embarked_S'\n",
    "}\n",
    "\n",
    "# calculating the accuracy of test data\n",
    "acc = sk_metric.accuracy_score(y_test, forest.predict(X_test))\n",
    "scores = collections.defaultdict(list)\n",
    "\n",
    "for i in range(X_test.shape[1]):\n",
    "    acc_result = np.zeros(100)\n",
    "    for j in range(100):\n",
    "        X_t = X_test.copy()\n",
    "        np.random.shuffle(X_t[:, i])\n",
    "        # calculating the accuracy of shuffled data\n",
    "        shuf_acc = sk_metric.accuracy_score(y_test, forest.predict(X_t))\n",
    "        acc_result[j] = (acc - shuf_acc) / acc\n",
    "    acc_avg = np.sum(acc_result) / 100\n",
    "    scores[i].append(acc_avg)\n",
    "\n",
    "# sorted attribute based on accuracy decrease\n",
    "sorted_scores = sorted(scores.items(), key = lambda kv:(kv[1], kv[0]), reverse=True)\n",
    "fig_labels = list()\n",
    "fig_scores = list()\n",
    "width = 0.35       # the width of the bars\n",
    "for key in sorted_scores:\n",
    "    print(attribute_dict[key[0]+1], key[1][0], sep=\": \")\n",
    "    fig_labels.append(attribute_dict[key[0]+1])\n",
    "    fig_scores.append(key[1][0] * 100)\n",
    "\n",
    "fig, ax = plt.subplots()\n",
    "ax.barh(fig_labels, fig_scores, width, label='MDA in %')\n",
    "ax.set_ylabel('Scores')\n",
    "ax.set_title('Scores by attribute')\n",
    "ax.legend()\n",
    "plt.show()\n"
   ]
  },
  {
   "cell_type": "markdown",
   "metadata": {
    "colab_type": "text",
    "id": "NX36ubB3yiiN"
   },
   "source": [
    "## Task 3: Discrete AdaBoost with Decision Stumps\n",
    " \n",
    "*For all students other than B.Sc. Data Science.*  \n",
    "\n",
    "In this task, you will implement the discrete AdaBoost algorithm using decision stumps as weak learners. Your training will run until either `n_learners` weak learners have been added or a perfect accuracy on the training data set is achieved. Use the function `initialize_decision_stumps` to create decision stumps, which you can train on your weighted data using `fit` and predict using `predict`. The decision stumps are instances of the class [sklearn.tree.DecisionTreeClassifier](https://scikit-learn.org/stable/modules/generated/sklearn.tree.DecisionTreeClassifier.html).\n",
    "\n",
    "In addition, you will evaluate your model on the test data (`X_test`, `y_test`) using scikit-learn with the methods shown in the lecture (precision, recall, F1-score, confusion matrices, ...). Feel free to import any functions you need from scikit-learn for this purpose."
   ]
  },
  {
   "cell_type": "code",
   "execution_count": null,
   "metadata": {
    "colab": {},
    "colab_type": "code",
    "id": "r-AABLYvyiiO"
   },
   "outputs": [],
   "source": [
    "def initialize_decision_stump():\n",
    "    stump = DecisionTreeClassifier(criterion='entropy', max_depth=1)\n",
    "    return stump\n",
    "\n",
    "\n",
    "class AdaBoostClassifier(object):\n",
    "    def __init__(self, n_learners):\n",
    "        self.n_learners = n_learners\n",
    "        # Add any initialization you need here.\n",
    "        self.stumps = np.zeros(shape=n_learners, dtype=object)\n",
    "        self.stump_weights = np.zeros(shape=n_learners)\n",
    "        self.errors = np.zeros(shape=n_learners)\n",
    "\n",
    "    def fit(self, X, y):\n",
    "        n_samples = X.shape[0]\n",
    "        weights = np.zeros(shape=(self.n_learners, n_samples))\n",
    "\n",
    "        #  Initialize weight to 1/N\n",
    "        weights[0] = np.ones(shape=n_samples) / n_samples\n",
    "\n",
    "        for n in range(self.n_learners):\n",
    "            # Fit weak learner\n",
    "            current_weights = weights[n]\n",
    "            stump = initialize_decision_stump()\n",
    "            stump.fit(X, y, sample_weight= current_weights)\n",
    "\n",
    "            # Calculate normalized weighted error\n",
    "            stump_predict = stump.predict(X)\n",
    "            error = current_weights[stump_predict != y].sum() / n_samples\n",
    "            stump_weight = np.log((1. -  error) / error)\n",
    "\n",
    "            # Update weights\n",
    "            current_weights *= np.exp(-stump_weight  * y * stump_predict)\n",
    "            if n+1 < self.n_learners:  # Not final iteration\n",
    "                weights[n+1] = current_weights\n",
    "\n",
    "            # Save values\n",
    "            self.stumps[n] = stump\n",
    "            self.stump_weights[n] = stump_weight\n",
    "            self.errors[n] = error\n",
    "\n",
    "    def predict(self, X, y):\n",
    "        stump_preds = np.array([stump.predict(X) for stump in self.stumps])\n",
    "        y_ada_pred = np.sign(np.dot(self.stump_weights, stump_preds))\n",
    "        return y_ada_pred"
   ]
  },
  {
   "cell_type": "code",
   "execution_count": null,
   "metadata": {
    "colab": {
     "base_uri": "https://localhost:8080/",
     "height": 292
    },
    "colab_type": "code",
    "id": "GZcpWsEPyiiT",
    "outputId": "20a97e38-a453-4c65-dad8-965463d89a86",
    "pycharm": {
     "name": "#%%\n"
    }
   },
   "outputs": [],
   "source": [
    "# Implement your training and evaluation here.  You may reuse the code from Task 1.\n",
    "myAda = AdaBoostClassifier (10)\n",
    "myAda.fit(X_test, y_test)\n",
    "y_ada_pred = myAda.predict(X_test, y_test)\n",
    "\n",
    "# Evaluating the model\n",
    "from sklearn.metrics import classification_report, confusion_matrix\n",
    "\n",
    "conf_matrix = confusion_matrix(y_test, y_ada_pred)\n",
    "report = classification_report(y_test, y_ada_pred)\n",
    "\n",
    "print(\"Confusion matrix:\")\n",
    "print(conf_matrix)\n",
    "print(\"Classification report:\")\n",
    "print(report)"
   ]
  }
 ],
 "metadata": {
  "colab": {
   "collapsed_sections": [],
   "name": "assignment7.ipynb",
   "provenance": []
  },
  "kernelspec": {
   "display_name": "Python 3",
   "language": "python",
   "name": "python3"
  },
  "language_info": {
   "codemirror_mode": {
    "name": "ipython",
    "version": 3
   },
   "file_extension": ".py",
   "mimetype": "text/x-python",
   "name": "python",
   "nbconvert_exporter": "python",
   "pygments_lexer": "ipython3",
   "version": "3.8.0"
  }
 },
 "nbformat": 4,
 "nbformat_minor": 1
}
