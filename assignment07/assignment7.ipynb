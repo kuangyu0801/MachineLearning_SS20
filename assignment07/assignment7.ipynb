{
 "cells": [
  {
   "cell_type": "markdown",
   "metadata": {},
   "source": [
    "# Assignment 7: Bagging and Boosting\n",
    "\n",
    "Only use the already imported library `numpy`, `matplotlib` and the Python standard library. For the evaluation you may also use scikit-learn (`sklearn`). Make sure that the dataset `titanic.csv` is in the same directory as the notebook.\n",
    "\n",
    "List your team members (name and immatriculation number) and indicate whether you are a B.Sc. Data Science or other group in the following cell:"
   ]
  },
  {
   "cell_type": "markdown",
   "metadata": {},
   "source": [
    "- *Your names here*"
   ]
  },
  {
   "cell_type": "code",
   "execution_count": null,
   "metadata": {},
   "outputs": [],
   "source": [
    "# You are allowed to use the numpy package and the DecisionTreeClassifier.\n",
    "import matplotlib.pyplot as plt\n",
    "import numpy as np\n",
    "from sklearn.tree import DecisionTreeClassifier\n",
    "\n",
    "\n",
    "def load_dataset(path):\n",
    "    import pandas as pd\n",
    "    from sklearn.model_selection import train_test_split\n",
    "\n",
    "    df = pd.read_csv('titanic.csv')\n",
    "    # The feature engineering mostly follows the notebook by Manav Segal: https://www.kaggle.com/startupsci/titanic-data-science-solutions\n",
    "    # From the Name attribute we can extract titles, which gives insight about the social status/age/gender of the passenger.\n",
    "    df['Title'] = df['Name'].str.extract(' ([a-zA-Z]+)\\.', expand=False)\n",
    "    df['Title'] = df['Title'].replace(['Lady', 'Countess', 'Capt', 'Col', 'Don', 'Dr', 'Major', 'Rev', 'Sir', 'Jonkheer', 'Dona'], 'Rare')\n",
    "    df['Title'] = df['Title'].replace(['Mlle', 'Ms'], 'Miss')\n",
    "    df['Title'] = df['Title'].replace('Mme', 'Mrs')\n",
    "    # We map the Title attribute to a one-hot encoding.\n",
    "    df = df.join(pd.get_dummies(df['Title'], prefix='Title'))\n",
    "\n",
    "    # We map the Sex attribute to a numeric representation.\n",
    "    df['Sex'] = df['Sex'].map({'female': 1, 'male': 0}).astype(int)\n",
    "\n",
    "    # We one-hot encode Pclass.\n",
    "    df = df.join(pd.get_dummies(df['Pclass'], prefix='Pclass'))\n",
    "\n",
    "    # Based on the number of sibling-spouses in SibSp and parents-childern in Parch, \n",
    "    # we can determine whether a passenger was on board alone.\n",
    "    df['IsAlone'] = ((df['SibSp'] + df['Parch'] + 1) == 1).astype(int)\n",
    "\n",
    "    # We remove all attributes that do not seem relevant to the prediction, or are already encoded in another attribute.\n",
    "    df = df.drop(['PassengerId', 'Name', 'Title', 'Ticket', 'Cabin', 'Parch', 'SibSp'], axis=1)\n",
    "\n",
    "    # For remaining features, we have to separate train and test, \n",
    "    # as we will impute missing data based on statistics in the training data.\n",
    "    df_train, df_test = train_test_split(df, test_size=0.2, random_state=2020)\n",
    "    # For Embarked, we set all missing values to the most frequent port and then one-hot encode the attribute.\n",
    "    def impute_embarked():    \n",
    "        freq_port = df_train['Embarked'].dropna().mode()[0]\n",
    "        output = []\n",
    "        for df in (df_train, df_test):\n",
    "            df = df.join(pd.get_dummies(df['Embarked'].fillna(freq_port), prefix='Embarked'))\n",
    "            df = df.drop('Embarked', axis=1)\n",
    "            output.append(df)\n",
    "        return output\n",
    "\n",
    "    df_train, df_test = impute_embarked()\n",
    "\n",
    "    # For Age, we set missing values to the median dependent on the pair of Sex and Pclass.\n",
    "    guess_ages = np.zeros((2, 3))\n",
    "    for df in (df_train, df_test):\n",
    "        for i in range(2):\n",
    "            for j in range(3):\n",
    "                guess_ages[i, j] = df[(df['Sex'] == i) & (df['Pclass'] == j+1)]['Age'].dropna().median()\n",
    "        for i in range(2):\n",
    "            for j in range(3):\n",
    "                df.loc[(df['Age'].isnull()) & (df['Sex'] == i) & (df['Pclass'] == j+1), 'Age'] = guess_ages[i, j]\n",
    "        df['Age'] = df['Age'].astype(int)\n",
    "\n",
    "    df_train = df_train.drop(['Pclass'], axis=1)\n",
    "    df_test = df_test.drop(['Pclass'], axis=1)\n",
    "\n",
    "    X_train = df_train.values[:, 1:]\n",
    "    X_test = df_test.values[:, 1:]\n",
    "    y_train = df_train.values[:, 0]\n",
    "    y_test = df_test.values[:, 0]\n",
    "    \n",
    "    return X_train, X_test, y_train, y_test\n",
    "    \n",
    "X_train, X_test, y_train, y_test = load_dataset('titanic.csv')"
   ]
  },
  {
   "cell_type": "markdown",
   "metadata": {},
   "source": [
    "The Titanic dataset and a description can be found at [Kaggle](https://www.kaggle.com/c/titanic/data). The feature engineering mostly follows the work by [Manav Segal](https://www.kaggle.com/startupsci/titanic-data-science-solutions). \n",
    "\n",
    "The prepared dataset contains the following attributes:\n",
    "- Sex: binary (0 = Male, 1 = Female)\n",
    "- Age: integer\n",
    "- Fare: float\n",
    "- Title_{Master, Miss, Mr, Mrs, Rare}: title of passenger (extracted from name), binary, one-hot encoding of categorical variable Title\n",
    "- Pclass_{1, 2, 3}: ticket class corresponds to socio-economic status (1 = upper class, 2 = middle class, 3 = lower class), binary, one-hot encoding of categorical variable Pclass\n",
    "- IsAlone: whether the passenger has no siblings/spouses/parents/children on board, binary\n",
    "- Embarked_{C, Q, S}: port at which passenger embarked (C = Cherbourg, Q = Queenstown, S = Southampton), binary, one-hot encoding of categorical variable Embarked\n",
    "\n",
    "The classification target is:\n",
    "- Survived: binary\n",
    "\n",
    "Data is split into train-test with a 80-20 ratio yielding 712 training and 179 test samples. Train and test data is stored in the variables `(X_train, y_train)` and `(X_test, y_test)` respectively."
   ]
  },
  {
   "cell_type": "markdown",
   "metadata": {},
   "source": [
    "## Task 1: Random Forest\n",
    "\n",
    "In this task, you will implement a random forest classifier using the scikit-learn implementation of the decision tree. \n",
    "\n",
    "Use bootstrap sampling and sample 20% of the original data set for each tree. Randomly select 6 attributes/columns for each trained tree. The prediction of each tree should be weighted equally in the majority vote. Use the already imported class `DecisionTreeClassifier` for your decision trees. You can find the decision tree documentation [here](https://scikit-learn.org/stable/modules/generated/sklearn.tree.DecisionTreeClassifier.html). You may use either the default parameters or experiment with different settings.\n",
    "\n",
    "You will evaluate your model on the test data using scikit-learn with the methods shown in the lecture ([precision, recall, F1-score](https://scikit-learn.org/stable/modules/generated/sklearn.metrics.precision_recall_fscore_support.html#sklearn.metrics.precision_recall_fscore_support), [confusion matrices](https://scikit-learn.org/stable/modules/generated/sklearn.metrics.confusion_matrix.html?highlight=confusion%20matrix#sklearn.metrics.confusion_matrix), ...). Try out different number of trees and compare the performance w.r.t. this parameter. Feel free to import any functions you need from scikit-learn for this purpose. \n"
   ]
  },
  {
   "cell_type": "code",
   "execution_count": null,
   "metadata": {},
   "outputs": [],
   "source": [
    "class RandomForestClassifier(object):\n",
    "    def __init__(self, number_of_trees):\n",
    "        self.number_of_trees = number_of_trees\n",
    "        # Add your code, such as initialization of trees here.\n",
    "        \n",
    "    def fit(self, X, y):\n",
    "        # Implement your training here.\n",
    "        pass\n",
    "    \n",
    "    def predict(self, X):\n",
    "        # Implement your prediction here.\n",
    "        return None\n"
   ]
  },
  {
   "cell_type": "code",
   "execution_count": null,
   "metadata": {},
   "outputs": [],
   "source": [
    "# Implement your training and evaluation here."
   ]
  },
  {
   "cell_type": "markdown",
   "metadata": {},
   "source": [
    "## Task 2: Interpreting Random Forests\n",
    "\n",
    "Implement the mean decrease of accuracy for the [sklearn.ensemble.RandomForestClassifier](https://scikit-learn.org/stable/modules/generated/sklearn.ensemble.RandomForestClassifier.html) `forest` to analyse learned attribute importances. Use the test set `X_test` and `y_test` as out-of-bag-samples. Permute the values of the assessed attribute by randomly shuffling the corresponding column. Plot the results to compare the importance of each feature. Discuss your results (are any importance values surprising, do the results make sense in the context of the task, ...).\n",
    "\n",
    "Note: We have already trained the classifier and stored it in the variable `forest`. You only need to implement MDA and the plots for your results."
   ]
  },
  {
   "cell_type": "code",
   "execution_count": null,
   "metadata": {},
   "outputs": [],
   "source": [
    "def create_forest():\n",
    "    import sklearn.ensemble\n",
    "    import sklearn.metrics\n",
    "    forest = sklearn.ensemble.RandomForestClassifier(8)\n",
    "    forest.fit(X_train, y_train)\n",
    "    prec, rec, f1, _ = sklearn.metrics.precision_recall_fscore_support(y_test, forest.predict(X_test))\n",
    "    print('Precision:', prec)\n",
    "    print('Recall:', rec)\n",
    "    print('F1-score:', f1)\n",
    "    return forest\n",
    "\n",
    "forest = create_forest()"
   ]
  },
  {
   "cell_type": "code",
   "execution_count": null,
   "metadata": {},
   "outputs": [],
   "source": [
    "# Implement your solution here."
   ]
  },
  {
   "cell_type": "markdown",
   "metadata": {},
   "source": [
    "## Task 3: Discrete AdaBoost with Decision Stumps\n",
    " \n",
    "*For all students other than B.Sc. Data Science.*  \n",
    "\n",
    "In this task, you will implement the discrete AdaBoost algorithm using decision stumps as weak learners. Your training will run until either `n_learners` weak learners have been added or a perfect accuracy on the training data set is achieved. Use the function `initialize_decision_stumps` to create decision stumps, which you can train on your weighted data using `fit` and predict using `predict`. The decision stumps are instances of the class [sklearn.tree.DecisionTreeClassifier](https://scikit-learn.org/stable/modules/generated/sklearn.tree.DecisionTreeClassifier.html).\n",
    "\n",
    "In addition, you will evaluate your model on the test data (`X_test`, `y_test`) using scikit-learn with the methods shown in the lecture (precision, recall, F1-score, confusion matrices, ...). Feel free to import any functions you need from scikit-learn for this purpose."
   ]
  },
  {
   "cell_type": "code",
   "execution_count": null,
   "metadata": {},
   "outputs": [],
   "source": [
    "def initialize_decision_stump():\n",
    "    stump = DecisionTreeClassifier(criterion='entropy', max_depth=1)\n",
    "    return stump\n",
    "\n",
    "\n",
    "class AdaBoostClassifier(object):\n",
    "    def __init__(self, n_learners):\n",
    "        self.n_learners = n_learners\n",
    "        # Add any initialization you need here.\n",
    "    \n",
    "    def fit(self, X, y):\n",
    "        # Implement your solution here.\n",
    "        pass\n",
    "    \n",
    "    def predict(self, X, y):\n",
    "        # Implement your solution here.\n",
    "        pass\n"
   ]
  },
  {
   "cell_type": "code",
   "execution_count": null,
   "metadata": {},
   "outputs": [],
   "source": [
    "# Implement your training and evaluation here. You may reuse the code from Task 1."
   ]
  }
 ],
 "metadata": {
  "kernelspec": {
   "display_name": "Python 3",
   "language": "python",
   "name": "python3"
  },
  "language_info": {
   "codemirror_mode": {
    "name": "ipython",
    "version": 3
   },
   "file_extension": ".py",
   "mimetype": "text/x-python",
   "name": "python",
   "nbconvert_exporter": "python",
   "pygments_lexer": "ipython3",
   "version": "3.8.0"
  }
 },
 "nbformat": 4,
 "nbformat_minor": 1
}
