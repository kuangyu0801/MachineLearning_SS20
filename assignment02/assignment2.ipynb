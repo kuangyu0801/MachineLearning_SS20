{
 "cells": [
  {
   "cell_type": "markdown",
   "metadata": {},
   "source": [
    "# Assignment 2: Naive Bayes and Text Classification\n",
    "\n",
    "Only use the already imported library `numpy`. Make sure that the `spamham.txt` dataset is in the same directory as the notebook.\n",
    "\n",
    "List your team members (name and immatriculation number) in the following cell:"
   ]
  },
  {
   "cell_type": "markdown",
   "metadata": {},
   "source": [
    "Kuang-Yu Li, st169971@stud.uni-stuttgart.de, 3440829\n",
    "Ya Jen Hsu, st169013@stud.uni-stuttgart.de, 3449448\n",
    "Gabriella Ilena, st169935@stud.uni-stuttgart.de, 3440942"
   ]
  },
  {
   "cell_type": "code",
   "execution_count": 18,
   "metadata": {},
   "outputs": [
    {
     "name": "stdout",
     "output_type": "stream",
     "text": [
      "Sample:\n",
      "ham: ['go', 'until', 'jurong', 'point', 'crazy', 'available', 'only', 'in', 'bugis', 'n', 'great', 'world', 'la', 'e', 'buffet', 'cine', 'there', 'got', 'amore', 'wat']\n",
      "spam: ['free', 'entry', 'in', '2', 'a', 'wkly', 'comp', 'to', 'win', 'fa', 'cup', 'final', 'tkts', '21st', 'may', '2005', 'text', 'fa', 'to', '87121', 'to', 'receive', 'entry', 'questionstd', 'txt', 'ratetcs', 'apply', '08452810075over18s']\n"
     ]
    }
   ],
   "source": [
    "# Load required packages and dataset. Do not modify.\n",
    "import numpy as np\n",
    "\n",
    "\n",
    "def load_spamham_dataset():\n",
    "    import string\n",
    "    \n",
    "    with open('spamham.txt', mode='r', encoding='utf-8') as f:\n",
    "        rows = [l.strip().split('\\t')[:2] for l in f]\n",
    "    \n",
    "    y, X = zip(*rows)\n",
    "    X =[x.translate(str.maketrans('', '', string.punctuation)).lower().split() for x in X]\n",
    "    \n",
    "    return X, y\n",
    "    \n",
    "\n",
    "X, y = load_spamham_dataset()\n",
    "\n",
    "print('Sample:')\n",
    "print(f'{y[0]}: {X[0]}')\n",
    "print(f'{y[2]}: {X[2]}')"
   ]
  },
  {
   "cell_type": "markdown",
   "metadata": {},
   "source": [
    "## Task 2: Spam Classification with Naive Bayes\n",
    "\n",
    "Check out the description of the dataset at [https://archive.ics.uci.edu/ml/datasets/SMS+Spam+Collection](https://archive.ics.uci.edu/ml/datasets/SMS+Spam+Collection).\n",
    "\n",
    "Implement a Naive Bayes classifier with Laplace smoothing to detect whether a text message is spam or ham (not spam).\n",
    "\n",
    "A text message is represented by a list of string tokens as shown above.\n",
    "The classification target is binary and the two possible labels are the strings `'spam'` and `'ham'`.\n",
    "\n",
    "Fill out the methods in `NaiveBayesSpamClassifier` to train (`fit`) and predict (`predict`). Feel free to introduce new fields and methods based on your needs, but the methods `fit` and `predict` are required and their interface should not be changed.\n",
    "\n",
    "Hint: Try to map the text messages to word frequency vectors by counting how often each word occurs in a message."
   ]
  },
  {
   "cell_type": "code",
   "execution_count": 19,
   "metadata": {},
   "outputs": [
    {
     "name": "stdout",
     "output_type": "stream",
     "text": [
      "y_count [6. 4.]\n"
     ]
    }
   ],
   "source": [
    "# Implement your solution here.\n",
    "class NaiveBayesSpamClassifier(object):\n",
    "    \n",
    "    def __init__(self):\n",
    "        self.priors = list()\n",
    "        self.dict_cond_prob = dict()\n",
    "        pass\n",
    "    \n",
    "    def fit(self, X, y):\n",
    "        \"\"\"\n",
    "        X is a list of `n` text messages. Each text message is a list of strings with at least length one.\n",
    "        y is a list of `n` labels either the string 'spam' or the string 'ham'.\n",
    "        \"\"\"\n",
    "        assert len(X) == len(y), 'Train data and target label length not match'\n",
    "        \n",
    "        # Calculate priors based on the class labels in y\n",
    "        label_count = {'spam': 0, 'ham': 0}\n",
    "        for label in y:\n",
    "            if type(label) == str and label == 'spam': # Checking the type just in case\n",
    "                label_count['spam'] += 1\n",
    "            elif type(label) == str and label == 'ham':\n",
    "                label_count['ham'] += 1\n",
    "        prior_spam = label_count['spam'] / len(y) # Number of spam over all elements\n",
    "        prior_ham = label_count['ham'] / len(y) # Number of ham over all elements\n",
    "        self.priors = [prior_spam, prior_ham]\n",
    "\n",
    "        # Printing for testing purposes only\n",
    "        # print(label_count)\n",
    "        # print(priors)\n",
    "        assert sum(label_count.values()) == len(y), 'length of lable count.values not match'\n",
    "\n",
    "        # Create a bag of words for each class label and count the word frequency\n",
    "        # Add to global vocabulary\n",
    "        bag_words = {'spam':{}, 'ham':{}}\n",
    "\n",
    "        for x_, y_ in zip(X, y):\n",
    "\n",
    "            word_count = {}\n",
    "            # Go through each word in current class label\n",
    "            for word in x_:\n",
    "                word_count[word] = word_count.get(word, 0) + 1\n",
    "\n",
    "            # Iterate over the dictionary\n",
    "            for word, count in word_count.items():\n",
    "                # If the word is not in this class\n",
    "                if word not in bag_words[y_]:\n",
    "                    bag_words[y_][word] = 0\n",
    "                # Add the words to relevant bag of words\n",
    "                bag_words[y_][word] += count\n",
    "        \n",
    "        # Print to test result\n",
    "        # print(bag_words)\n",
    "        \n",
    "        \n",
    "        # Goal creating a dictionary with {string: [P(string|ham), P(string|ham)]}\n",
    "        # key being a string in_string\n",
    "        # value being a ndarray, storing conditional_prob for in_string'ham' and 'spam'\n",
    "        #  Term | ham | spam\n",
    "        #  strA | 50 (-> 50/120) | 60\n",
    "        #  strB | 70 (-> 70/120) | 90\n",
    "        #  sum  | 120 (-> 120/120) | 150\n",
    "        \n",
    "        # Step-1: iterating through all items in X and adding them to dictionary with thier occurance\n",
    "        dict_cond_prob = dict()\n",
    "        dict_word_freq = dict()\n",
    "        y_count = np.array([label_count['ham'], label_count['spam']], dtype=float)\n",
    "        print('y_count', y_count)\n",
    "        for index in range(len(X)):\n",
    "            for x in X[index]:\n",
    "                if x in dict_word_freq:\n",
    "                    x_freq = dict_word_freq[x]\n",
    "                    if y[index] == 'ham':\n",
    "                        x_freq[0] += 1\n",
    "                    else:\n",
    "                        x_freq[1] += 1\n",
    "                else:\n",
    "                    if y[index] == 'ham':\n",
    "                        dict_word_freq[x] = np.array([1, 0], dtype=float)\n",
    "                    else:\n",
    "                        dict_word_freq[x] = np.array([0, 1], dtype=float)\n",
    "                        \n",
    "\n",
    "             \n",
    "        # Step-2: summing up all occurrance to calculate the conditional probability\n",
    "        for k, v in dict_word_freq.items():\n",
    "            self.dict_cond_prob[k] = (dict_word_freq[k] + np.ones(2))/ (y_count + len(y)*(np.ones(2)))\n",
    "        pass\n",
    "    \n",
    "    def predict(self, X):\n",
    "        \"\"\"\n",
    "        X is a list of `n` text messages. Each text message is a list of strings with at least length one.\n",
    "        The method returns a list of `n` strings, i.e. classification labels ('spam' or 'ham').\n",
    "        \"\"\"\n",
    "        y_pred = list()\n",
    "        for x in X:\n",
    "            total_prab = np.log(np.array(self.priors, dtype=float))\n",
    "            for x_element in x:\n",
    "                if x_element in self.dict_cond_prob.keys():\n",
    "                    total_prab += np.log(self.dict_cond_prob[x_element])\n",
    "            if total_prab[0] > total_prab[1]:\n",
    "                pred = 'ham'\n",
    "            else:\n",
    "                pred = 'spam'               \n",
    "            y_pred.append(pred)\n",
    "        return y_pred\n",
    "    pass\n",
    "\n",
    "# Testing\n",
    "def test_NB(X, y):\n",
    "    myNB = NaiveBayesSpamClassifier()\n",
    "    myNB.fit(X, y)\n",
    "\n",
    "    y_pred = myNB.predict(X)\n",
    "    assert (y_pred_ == y_ for y_pred_, y_ in zip(y_pred, y)), 'prediction error'\n",
    "\n",
    "test_NB(X[:10], y[:10])  "
   ]
  },
  {
   "cell_type": "code",
   "execution_count": 20,
   "metadata": {},
   "outputs": [
    {
     "name": "stdout",
     "output_type": "stream",
     "text": [
      "y_count [3382.  519.]\n"
     ]
    },
    {
     "data": {
      "image/png": "[encoded data removed]",
      "text/plain": [
       "<Figure size 432x288 with 1 Axes>"
      ]
     },
     "metadata": {
      "needs_background": "light"
     },
     "output_type": "display_data"
    },
    {
     "data": {
      "image/png": "[encoded data removed]",
      "text/plain": [
       "<Figure size 432x288 with 1 Axes>"
      ]
     },
     "metadata": {
      "needs_background": "light"
     },
     "output_type": "display_data"
    }
   ],
   "source": [
    "# The following code will evaluate your classifier.\n",
    "class HamClassifier(object):\n",
    "    \"\"\"\n",
    "    This classifier is a primitive baseline, which just predicts the most common class each time.\n",
    "    Naive Bayes should definitely beat this.\n",
    "    \"\"\"\n",
    "    def fit(self, X, y): pass\n",
    "    def predict(self, X): return len(X)*['ham']\n",
    "\n",
    "    \n",
    "def train_evaluate(classifier, X, y):\n",
    "    from sklearn.metrics import confusion_matrix\n",
    "    from sklearn.model_selection import train_test_split\n",
    "    \n",
    "    # Apply train-test split.\n",
    "    X_train, X_test, y_train, y_test = train_test_split(X, y, test_size=0.3, random_state=2020)\n",
    "    # Inititialize and train classifier.\n",
    "    classifier.fit(X_train, y_train)\n",
    "    # Evaluate classifier on test data.\n",
    "    yhat_test = classifier.predict(X_test)\n",
    "    cmatrix = confusion_matrix(y_test, yhat_test, labels=['ham', 'spam'])\n",
    "    \n",
    "    return cmatrix\n",
    "\n",
    "\n",
    "def plot_confusion_matrix(cmatrix, classifier_name):\n",
    "    import matplotlib.pyplot as plt\n",
    "    \n",
    "    fig, ax = plt.subplots(1, 1)\n",
    "    ax.matshow(cmatrix, cmap='Greens')\n",
    "    for x in (0, 1):\n",
    "        for y in (0, 1):\n",
    "            ax.text(x, y, cmatrix[y, x])\n",
    "    ax.set_xlabel('predicted label')\n",
    "    ax.set_ylabel('true label')\n",
    "    ax.set_xticklabels(['', 'ham', 'spam'])\n",
    "    ax.set_yticklabels(['', 'ham', 'spam'])\n",
    "    ax.set_title(classifier_name)\n",
    "\n",
    "    \n",
    "    \n",
    "ham_classifier = HamClassifier()\n",
    "your_classifier = NaiveBayesSpamClassifier()\n",
    "ham_cmatrix = train_evaluate(ham_classifier, X, y)\n",
    "your_cmatrix = train_evaluate(your_classifier, X, y)\n",
    "\n",
    "plot_confusion_matrix(ham_cmatrix, 'HamClassifier')\n",
    "plot_confusion_matrix(your_cmatrix, 'NaiveBayesSpamClassifier')"
   ]
  }
 ],
 "metadata": {
  "kernelspec": {
   "display_name": "Python 3",
   "language": "python",
   "name": "python3"
  },
  "language_info": {
   "codemirror_mode": {
    "name": "ipython",
    "version": 3
   },
   "file_extension": ".py",
   "mimetype": "text/x-python",
   "name": "python",
   "nbconvert_exporter": "python",
   "pygments_lexer": "ipython3",
   "version": "3.8.0"
  }
 },
 "nbformat": 4,
 "nbformat_minor": 1
}