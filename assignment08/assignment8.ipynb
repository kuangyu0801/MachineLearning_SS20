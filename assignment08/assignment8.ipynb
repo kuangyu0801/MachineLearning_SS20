{
 "nbformat": 4,
 "nbformat_minor": 0,
 "metadata": {
  "kernelspec": {
   "display_name": "Python 3",
   "language": "python",
   "name": "python3"
  },
  "language_info": {
   "codemirror_mode": {
    "name": "ipython",
    "version": 3
   },
   "file_extension": ".py",
   "mimetype": "text/x-python",
   "name": "python",
   "nbconvert_exporter": "python",
   "pygments_lexer": "ipython3",
   "version": "3.8.0"
  },
  "colab": {
   "name": "assignment8.ipynb",
   "provenance": [],
   "toc_visible": true
  }
 },
 "cells": [
  {
   "cell_type": "markdown",
   "metadata": {
    "id": "dM-mXKv6402P",
    "colab_type": "text"
   },
   "source": [
    "# Assignment 8: Neural Networks\n",
    "\n",
    "Only use the already imported library `numpy` and the Python standard library. For the evaluation you may also use scikit-learn (`sklearn`) and `matplotlib`. Make sure that the dataset `airfoil_self_noise.csv` is in the same directory as the notebook.\n",
    "\n",
    "List your team members (name and immatriculation number) and indicate whether you are a B.Sc. Data Science or other group in the following cell:"
   ]
  },
  {
   "cell_type": "markdown",
   "metadata": {
    "id": "jxdyiMxw402w",
    "colab_type": "text"
   },
   "source": [
    "- Kuang-Yu Li, st169971@stud.uni-stuttgart.de, 3440829 \n",
    "- Ya-Jen Hsu, st169013@stud.uni-stuttgart.de, 3449448 \n",
    "- Gabriella Ilena, st169935@stud.uni-stuttgart.de, 3440942"
   ]
  },
  {
   "cell_type": "code",
   "metadata": {
    "id": "HYEGvihl402V",
    "colab_type": "code",
    "colab": {}
   },
   "source": [
    "import numpy as np\n",
    "\n",
    "def load_dataset(path):\n",
    "    from sklearn.model_selection import train_test_split\n",
    "    \n",
    "    data = np.genfromtxt(path)\n",
    "    X, y = data[:, :5], data[:, 5]\n",
    "    X_train, X_test, y_train, y_test = train_test_split(X, y, test_size=0.3, random_state=2020)\n",
    "\n",
    "    return X_train, X_test, y_train, y_test\n",
    "    \n",
    "\n",
    "X_train, X_test, y_train, y_test = load_dataset('airfoil_self_noise.csv')"
   ],
   "execution_count": 32,
   "outputs": []
  },
  {
   "cell_type": "markdown",
   "metadata": {
    "id": "n2VXLc0-4024",
    "colab_type": "text"
   },
   "source": [
    "## Task 3: Feedforward Neural Network: Programming\n",
    "\n",
    "In this task, you will implement a feedforward neural network for regression. The hyperparameters of the model are:\n",
    "- `input_dim`: The dimension of the input vector.\n",
    "- `output_dim`: The dimension of the output vector.\n",
    "- `width`: The dimension of each hidden layer.\n",
    "- `depth`: The number of hidden layers. For B.Sc. Data Science students, this parameter is constant with a value of 1.\n",
    "- `learning_rate`: The learning rate for gradient descent.\n",
    "- `epochs`: The number of epochs/iterations performed during training.\n",
    "\n",
    "B.Sc. Data Science only have to implement for a single hidden layer, i.e. `depth = 1`. All other students have to implement the network for any `depth >= 1`.\n",
    "\n",
    "The activation function for each hidden layer is ReLU (g(x) = max(0, x)). The output layer uses the identity as activation, since our objective is regression.\n",
    "\n",
    "You have to implement the `FeedforwardNeuralNetworkRegressor`.\n",
    "\n",
    "The `__init__` method initializes the network.\n",
    "Initialize each weight and bias randomly with a standard Gaussian distribution using the numpy function `numpy.random.normal` with default parameters.\n",
    "\n",
    "The `fit` method trains the network.\n",
    "Use backpropagation with gradient descent similar to Task 2.\n",
    "Use the whole training data set for each training epoch.\n",
    "Use the mean squared error as loss function.\n",
    "\n",
    "The `predict` method computes the forward-pass of the network.\n",
    "\n",
    "Evaluate your classifier on the test data with the mean squared error and compare your results to your linear regression model from assignment 3. Try out different hyper-parameters and compare the results. You may want to normalize your input and output data for better performance."
   ]
  },
  {
   "cell_type": "code",
   "metadata": {
    "id": "_2weTo2x4029",
    "colab_type": "code",
    "colab": {}
   },
   "source": [
    "class FeedforwardNeuralNetworkClassifier(object):\n",
    "    def __init__(self, input_dim, output_dim, width, depth, learning_rate, epochs):\n",
    "        # Add your code, such as initialization of weights here.\n",
    "        self.input_dim = input_dim\n",
    "        self.output_dim = output_dim\n",
    "        self.width = width\n",
    "        self.depth = depth\n",
    "        self.learning_rate = learning_rate\n",
    "        self.epochs = epochs\n",
    "        \n",
    "        # Initialize the weights and biases for each layer randomly based on the normal distribution\n",
    "        # General rule for the dimensions:\n",
    "        # Weights have shape (n, m), where n is the number of output neurons and m is the number of input neurons\n",
    "        # Biases have shape (n, 1)\n",
    "        np.random.seed(5) # Seed to get reproducable results\n",
    "        self.w = list()\n",
    "        self.b = list()\n",
    "\n",
    "        self.w.append(np.random.normal(size=(input_dim, width))) # Input layer to 1st hidden layer\n",
    "        self.b.append(np.random.normal(size=(1, width)))\n",
    "        \n",
    "        for i in range(depth-1): # Between hidden layers\n",
    "          self.w.append(np.random.normal(size=(width, width)))\n",
    "          self.b.append(np.random.normal(size=(1, width)))\n",
    "        \n",
    "        self.w.append(np.random.normal(size=(width, output_dim))) # To the output layer\n",
    "        self.b.append(np.random.normal(size=(1, output_dim)))\n",
    "        \n",
    "        self.params = {'w': self.w, 'b': self.b}\n",
    "\n",
    "    def relu(self, X):\n",
    "        return np.maximum(0, X)\n",
    "\n",
    "    def relu_derivative(self, X):\n",
    "        X[X<=0] = 0.\n",
    "        X[X>0] = 1.\n",
    "        return X\n",
    "\n",
    "    def fit(self, X, y):\n",
    "        # Implement your training here\n",
    "\n",
    "        for i in range(self.epochs):\n",
    "          # Forward propagation\n",
    "          # Output = activation_function(X.W + b)\n",
    "          a = dict()\n",
    "          \n",
    "          for j in range(self.depth):\n",
    "            if j==0:\n",
    "              a[j] = self.relu(np.dot(X, self.params['w'][j]) + self.params['b'][j])  # Output of 1st hidden layer.\n",
    "            else:\n",
    "              a[j] = self.relu(np.dot(a[j-1], self.params['w'][j]) + self.params['b'][j])  # Output of 2nd until the last hidden layer\n",
    "            \n",
    "          a[self.depth] = np.dot(a[self.depth-1], self.params['w'][self.depth]) + self.params['b'][self.depth]  # Output of the last layer\n",
    "\n",
    "          # Back-propagation\n",
    "          # Calculate loss\n",
    "          y.shape = (-1, self.output_dim)\n",
    "          loss = np.mean(np.square(a[self.depth] - y)) # Total MSE\n",
    "          assert a[self.depth].shape == y.shape, \"Vectors need to have the same shape\"\n",
    "          \n",
    "          m = y.shape[0] # Number of samples\n",
    "          lambd = 0.7 # Regularization term\n",
    "          loss_grad = dict()\n",
    "          param_grads = dict()\n",
    "\n",
    "          # From the output layer\n",
    "          loss_grad[self.depth] = a[self.depth] - y\n",
    "          param_grads[self.depth] = (1.0/m) * np.dot(a[self.depth-1].T, loss_grad[self.depth]) + (lambd/m)*self.params['w'][self.depth]\n",
    "          self.params['w'][self.depth] = self.params['w'][self.depth] - self.learning_rate*(param_grads[self.depth]) # Update output weights\n",
    "          self.params['b'][self.depth] = self.params['b'][self.depth] - self.learning_rate*((1.0/m)*loss_grad[self.depth].sum(axis=0)) # Update output bias \n",
    "\n",
    "          # Now, starting from the last hidden layer, calculate the loss gradients and the gradients w.r.t parameters, and update params accordingly\n",
    "          for k in range(self.depth-1, -1, -1):\n",
    "            loss_grad[k] = np.multiply(self.relu_derivative(a[k]), loss_grad[k+1])\n",
    "            if k != 0:\n",
    "              param_grads[k] = (1.0/m)*np.dot(a[k-1].T, loss_grad[k]) + (lambd/m)*self.params['w'][k]  \n",
    "            else:\n",
    "              param_grads[k] = (1.0/m)*np.dot(X.T, loss_grad[k]) + (lambd/m)*self.params['w'][k]\n",
    "            self.params['w'][k] = self.params['w'][k] - self.learning_rate*(param_grads[k]) # Update output weights\n",
    "            self.params['b'][k] = self.params['b'][k] - self.learning_rate*(loss_grad[k].sum(axis=0)) # Update output bias\n",
    "          \n",
    "          print(\"Epoch:\", i)\n",
    "          print(\"Train loss:\", loss)\n",
    "\n",
    "    def predict(self, X):\n",
    "        output = dict()\n",
    "\n",
    "        # Compute the forward-pass\n",
    "        for i in range(self.depth):\n",
    "            if i==0:\n",
    "              output[i] = self.relu(np.dot(X, self.params['w'][i]) + self.params['b'][i])  # Output of 1st hidden layer.\n",
    "            else:\n",
    "              output[i] = self.relu(np.dot(output[i-1], self.params['w'][i]) + self.params['b'][i])  # Output of 2nd until the last hidden layer    \n",
    "        output[self.depth] = np.dot(output[self.depth-1], self.params['w'][self.depth]) + self.params['b'][self.depth]  # Output of the last layer\n",
    "        return output[self.depth]"
   ],
   "execution_count": 33,
   "outputs": []
  },
  {
   "cell_type": "code",
   "metadata": {
    "id": "7x52Czrt403M",
    "colab_type": "code",
    "colab": {
     "base_uri": "https://localhost:8080/",
     "height": 173
    },
    "outputId": "e99ab5a7-b208-44ad-8cb4-40f556f2e99a"
   },
   "source": [
    "# Implement your training and evaluation here.\n",
    "import sklearn.metrics as sk_metric\n",
    "from sklearn.preprocessing import MinMaxScaler\n",
    "\n",
    "# Data normalization\n",
    "scaler = MinMaxScaler()\n",
    "y_train.shape = (-1,1)\n",
    "X_train_norm = scaler.fit_transform(X_train)\n",
    "y_train_norm = scaler.fit_transform(y_train)\n",
    "\n",
    "# Training\n",
    "print(\"Start training...\")\n",
    "myFNNC = FeedforwardNeuralNetworkClassifier(input_dim=X_train_norm.shape[1], output_dim=1, width=10, depth=2, learning_rate=0.001, epochs=3)\n",
    "myFNNC.fit(X_train_norm, y_train_norm)\n",
    "print(\"End training...\")\n",
    "y_hat = myFNNC.predict(X_test)\n",
    "mse = sk_metric.mean_squared_error(y_hat, y_test)\n",
    "print(\"Test loss:\", mse)"
   ],
   "execution_count": 36,
   "outputs": [
    {
     "output_type": "stream",
     "text": [
      "Start training...\n",
      "Epoch: 0\n",
      "Train loss: 288.1242977132619\n",
      "Epoch: 1\n",
      "Train loss: 13583.819796220845\n",
      "Epoch: 2\n",
      "Train loss: 4447514396.799527\n",
      "End training...\n",
      "Test loss: 344464132.38457805\n"
     ],
     "name": "stdout"
    }
   ]
  },
  {
   "cell_type": "code",
   "metadata": {
    "id": "AChORUaJ403Z",
    "colab_type": "code",
    "colab": {}
   },
   "source": [
    ""
   ],
   "execution_count": 34,
   "outputs": []
  }
 ]
}