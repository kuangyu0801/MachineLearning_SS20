{
  "nbformat": 4,
  "nbformat_minor": 0,
  "metadata": {
    "kernelspec": {
      "display_name": "Python 3",
      "language": "python",
      "name": "python3"
    },
    "language_info": {
      "codemirror_mode": {
        "name": "ipython",
        "version": 3
      },
      "file_extension": ".py",
      "mimetype": "text/x-python",
      "name": "python",
      "nbconvert_exporter": "python",
      "pygments_lexer": "ipython3",
      "version": "3.8.0"
    },
    "colab": {
      "name": "assignment8.ipynb",
      "provenance": []
    }
  },
  "cells": [
    {
      "cell_type": "markdown",
      "metadata": {
        "id": "dM-mXKv6402P",
        "colab_type": "text"
      },
      "source": [
        "# Assignment 8: Neural Networks\n",
        "\n",
        "Only use the already imported library `numpy` and the Python standard library. For the evaluation you may also use scikit-learn (`sklearn`) and `matplotlib`. Make sure that the dataset `airfoil_self_noise.csv` is in the same directory as the notebook.\n",
        "\n",
        "List your team members (name and immatriculation number) and indicate whether you are a B.Sc. Data Science or other group in the following cell:"
      ]
    },
    {
      "cell_type": "markdown",
      "metadata": {
        "id": "jxdyiMxw402w",
        "colab_type": "text"
      },
      "source": [
        "- Kuang-Yu Li, st169971@stud.uni-stuttgart.de, 3440829 \n",
        "- Ya-Jen Hsu, st169013@stud.uni-stuttgart.de, 3449448 \n",
        "- Gabriella Ilena, st169935@stud.uni-stuttgart.de, 3440942"
      ]
    },
    {
      "cell_type": "code",
      "metadata": {
        "id": "HYEGvihl402V",
        "colab_type": "code",
        "colab": {}
      },
      "source": [
        "import numpy as np\n",
        "\n",
        "def load_dataset(path):\n",
        "    from sklearn.model_selection import train_test_split\n",
        "    \n",
        "    data = np.genfromtxt(path)\n",
        "    X, y = data[:, :5], data[:, 5]\n",
        "    X_train, X_test, y_train, y_test = train_test_split(X, y, test_size=0.3, random_state=2020)\n",
        "\n",
        "    return X_train, X_test, y_train, y_test\n",
        "    \n",
        "\n",
        "X_train, X_test, y_train, y_test = load_dataset('airfoil_self_noise.csv')"
      ],
      "execution_count": 32,
      "outputs": []
    },
    {
      "cell_type": "markdown",
      "metadata": {
        "id": "n2VXLc0-4024",
        "colab_type": "text"
      },
      "source": [
        "## Task 3: Feedforward Neural Network: Programming\n",
        "\n",
        "In this task, you will implement a feedforward neural network for regression. The hyperparameters of the model are:\n",
        "- `input_dim`: The dimension of the input vector.\n",
        "- `output_dim`: The dimension of the output vector.\n",
        "- `width`: The dimension of each hidden layer.\n",
        "- `depth`: The number of hidden layers. For B.Sc. Data Science students, this parameter is constant with a value of 1.\n",
        "- `learning_rate`: The learning rate for gradient descent.\n",
        "- `epochs`: The number of epochs/iterations performed during training.\n",
        "\n",
        "B.Sc. Data Science only have to implement for a single hidden layer, i.e. `depth = 1`. All other students have to implement the network for any `depth >= 1`.\n",
        "\n",
        "The activation function for each hidden layer is ReLU (g(x) = max(0, x)). The output layer uses the identity as activation, since our objective is regression.\n",
        "\n",
        "You have to implement the `FeedforwardNeuralNetworkRegressor`.\n",
        "\n",
        "The `__init__` method initializes the network.\n",
        "Initialize each weight and bias randomly with a standard Gaussian distribution using the numpy function `numpy.random.normal` with default parameters.\n",
        "\n",
        "The `fit` method trains the network.\n",
        "Use backpropagation with gradient descent similar to Task 2.\n",
        "Use the whole training data set for each training epoch.\n",
        "Use the mean squared error as loss function.\n",
        "\n",
        "The `predict` method computes the forward-pass of the network.\n",
        "\n",
        "Evaluate your classifier on the test data with the mean squared error and compare your results to your linear regression model from assignment 3. Try out different hyper-parameters and compare the results. You may want to normalize your input and output data for better performance."
      ]
    },
    {
      "cell_type": "code",
      "metadata": {
        "id": "_2weTo2x4029",
        "colab_type": "code",
        "colab": {}
      },
      "source": [
        "class FeedforwardNeuralNetworkClassifier(object):\n",
        "    def __init__(self, input_dim, output_dim, width, depth, learning_rate, epochs):\n",
        "        # Add your code, such as initialization of weights here.\n",
        "        self.input_dim = input_dim\n",
        "        self.output_dim = output_dim\n",
        "        self.width = width\n",
        "        self.depth = depth\n",
        "        self.learning_rate = learning_rate\n",
        "        self.epochs = epochs\n",
        "        \n",
        "        # Initialize the weights and biases for each layer randomly based on the normal distribution\n",
        "        # General rule for the dimensions:\n",
        "        # Weights have shape (n, m), where n is the number of output neurons and m is the number of input neurons\n",
        "        # Biases have shape (n, 1)\n",
        "        np.random.seed(5) # Seed to get reproducable results\n",
        "        self.w = list()\n",
        "        self.b = list()\n",
        "\n",
        "        self.w.append(np.random.normal(size=(width, input_dim))) # Input layer\n",
        "        self.b.append(np.random.normal(size=(width,1)))\n",
        "        \n",
        "        for i in range(depth): # Hidden layers\n",
        "          self.w.append(np.random.normal(size=(width, width)))\n",
        "          self.b.append(np.random.normal(size=(width, 1)))\n",
        "        \n",
        "        self.w.append(np.random.normal(size=(output_dim, width))) # Output layer\n",
        "        self.b.append(np.random.normal(size=(output_dim, 1)))\n",
        "        \n",
        "        self.params = {'w': self.w, 'b': self.b}\n",
        "\n",
        "    def relu(self, X):\n",
        "        return np.maximum(0, X)\n",
        "\n",
        "    def relu_derivative(self, X):\n",
        "        X[X<0] = 0.\n",
        "        X[X>0] = 1.\n",
        "        return X\n",
        "\n",
        "    def fit(self, X, y):\n",
        "        # Implement your training here\n",
        "\n",
        "        for i in range(self.epochs):\n",
        "          # Forward propagation\n",
        "          # Output = activation_function(W.X + b)\n",
        "          outputs = dict()\n",
        "          outputs[0] = self.relu(np.dot(self.params['w'][0], X.T) + self.params['b'][0])  # Output of 1st hidden layer. Transpose X to get column vector representation\n",
        "            \n",
        "          for j in range(self.depth):\n",
        "            outputs[j+1] = self.relu(np.dot(self.params['w'][j+1], outputs[j]) + self.params['b'][j+1])  # Output of 2nd until the last hidden layer\n",
        "            \n",
        "          outputs[self.depth+1] = np.dot(self.params['w'][self.depth+1], outputs[self.depth]) + self.params['b'][self.depth+1]  # Output of the last layer\n",
        "\n",
        "          # Calculate loss\n",
        "          y.shape = outputs[self.depth+1].shape # Since the output is given as a row vector, need to ensure it has the same shape as the label vector to prevent wrong broadcasting\n",
        "          loss = np.square(outputs[self.depth+1] - y).mean()\n",
        "          assert outputs[self.depth+1].shape == y.shape, \"Vectors need to have the same shape\"\n",
        "\n",
        "          # Loss gradient\n",
        "          dloss = outputs[self.depth+1] - y\n",
        "    \n",
        "          # Back-propagation\n",
        "          grads = dict()\n",
        "\n",
        "          # From the output layer\n",
        "          grads[self.depth+1] = np.dot(dloss, self.relu_derivative(outputs[self.depth]).T)\n",
        "          self.params['w'][self.depth] = self.params['w'][self.depth] - self.learning_rate*(grads[self.depth+1]) # Update output weights\n",
        "          self.params['b'][self.depth] = self.params['b'][self.depth] - self.learning_rate*(dloss)    \n",
        "\n",
        "    def predict(self, X):\n",
        "        # Implement your prediction here.\n",
        "        return None\n",
        "\n",
        "# Small testing\n",
        "x = np.array([[1., 2., 3.],\n",
        "              [4., 5., 6 ]])\n",
        "y = np.array([0, 1])\n",
        "test = FeedforwardNeuralNetworkClassifier(x.shape[1], 1, 3, 2, 0.1, 2) # Output dimension is always 1 for regression?\n",
        "test.fit(x, y)\n"
      ],
      "execution_count": 74,
      "outputs": []
    },
    {
      "cell_type": "code",
      "metadata": {
        "id": "7x52Czrt403M",
        "colab_type": "code",
        "colab": {}
      },
      "source": [
        "# Implement your training and evaluation here."
      ],
      "execution_count": null,
      "outputs": []
    },
    {
      "cell_type": "code",
      "metadata": {
        "id": "AChORUaJ403Z",
        "colab_type": "code",
        "colab": {}
      },
      "source": [
        ""
      ],
      "execution_count": null,
      "outputs": []
    }
  ]
}