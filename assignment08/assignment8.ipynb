{
 "cells": [
  {
   "cell_type": "markdown",
   "metadata": {},
   "source": [
    "# Assignment 8: Neural Networks\n",
    "\n",
    "Only use the already imported library `numpy` and the Python standard library. For the evaluation you may also use scikit-learn (`sklearn`) and `matplotlib`. Make sure that the dataset `airfoil_self_noise.csv` is in the same directory as the notebook.\n",
    "\n",
    "List your team members (name and immatriculation number) and indicate whether you are a B.Sc. Data Science or other group in the following cell:"
   ]
  },
  {
   "cell_type": "code",
   "execution_count": 192,
   "metadata": {},
   "outputs": [],
   "source": [
    "import numpy as np\n",
    "\n",
    "def load_dataset(path):\n",
    "    from sklearn.model_selection import train_test_split\n",
    "    \n",
    "    data = np.genfromtxt(path)\n",
    "    X, y = data[:, :5], data[:, 5]\n",
    "    X_train, X_test, y_train, y_test = train_test_split(X, y, test_size=0.3, random_state=2020)\n",
    "\n",
    "    return X_train, X_test, y_train, y_test\n",
    "    \n",
    "\n",
    "X_train, X_test, y_train, y_test = load_dataset('airfoil_self_noise.csv')"
   ]
  },
  {
   "cell_type": "markdown",
   "metadata": {},
   "source": [
    "- Kuang-Yu Li, st169971@stud.uni-stuttgart.de, 3440829 \n",
    "- Ya-Jen Hsu, st169013@stud.uni-stuttgart.de, 3449448 \n",
    "- Gabriella Ilena, st169935@stud.uni-stuttgart.de, 3440942"
   ]
  },
  {
   "cell_type": "markdown",
   "metadata": {},
   "source": [
    "## Task 3: Feedforward Neural Network: Programming\n",
    "\n",
    "In this task, you will implement a feedforward neural network for regression. The hyperparameters of the model are:\n",
    "- `input_dim`: The dimension of the input vector.\n",
    "- `output_dim`: The dimension of the output vector.\n",
    "- `width`: The dimension of each hidden layer.\n",
    "- `depth`: The number of hidden layers. For B.Sc. Data Science students, this parameter is constant with a value of 1.\n",
    "- `learning_rate`: The learning rate for gradient descent.\n",
    "- `epochs`: The number of epochs/iterations performed during training.\n",
    "\n",
    "B.Sc. Data Science only have to implement for a single hidden layer, i.e. `depth = 1`. All other students have to implement the network for any `depth >= 1`.\n",
    "\n",
    "The activation function for each hidden layer is ReLU (g(x) = max(0, x)). The output layer uses the identity as activation, since our objective is regression.\n",
    "\n",
    "You have to implement the `FeedforwardNeuralNetworkRegressor`.\n",
    "\n",
    "The `__init__` method initializes the network.\n",
    "Initialize each weight and bias randomly with a standard Gaussian distribution using the numpy function `numpy.random.normal` with default parameters.\n",
    "\n",
    "The `fit` method trains the network.\n",
    "Use backpropagation with gradient descent similar to Task 2.\n",
    "Use the whole training data set for each training epoch.\n",
    "Use the mean squared error as loss function.\n",
    "\n",
    "The `predict` method computes the forward-pass of the network.\n",
    "\n",
    "Evaluate your classifier on the test data with the mean squared error and compare your results to your linear regression model from assignment 3. Try out different hyper-parameters and compare the results. You may want to normalize your input and output data for better performance."
   ]
  },
  {
   "cell_type": "code",
   "execution_count": 193,
   "metadata": {},
   "outputs": [],
   "source": [
    "class FeedforwardNeuralNetworkClassifier(object):\n",
    "    def __init__(self, input_dim, output_dim, width, depth, learning_rate, epochs):\n",
    "        # Add your code, such as initialization of weights here.\n",
    "        self.input_dim = input_dim\n",
    "        self.output_dim = output_dim\n",
    "        self.width = width\n",
    "        self.depth = depth\n",
    "        self.learning_rate = learning_rate\n",
    "        self.epochs = epochs\n",
    "        self.w_in = np.random.randn(width, input_dim)\n",
    "        self.b_in = np.random.randn(width, 1)\n",
    "        self.w_hidden = np.random.randn(width, width, depth)\n",
    "        self.b_hidden = np.random.randn(width, 1, depth)\n",
    "        self.w_out = np.random.randn(output_dim, width)\n",
    "        self.b_out = np.random.randn(output_dim, 1)\n",
    "        print(\"======INITIAL PARAMETERS======\")\n",
    "        print(\"input_dim: \", input_dim)\n",
    "        print(\"output_dim: \", output_dim)\n",
    "        print(\"width: \", width)\n",
    "        print(\"depth: \", depth)\n",
    "        print(\"learning_rate: \", learning_rate)\n",
    "        print(\"epochs: \", epochs)\n",
    "        # print(self.w_in)\n",
    "        pass\n",
    "        \n",
    "    def fit(self, X, y):\n",
    "        \n",
    "        # Implement your training here.\n",
    "        pass\n",
    "    \n",
    "    def predict(self, X):\n",
    "        # Implement your prediction here.\n",
    "        print(\"[predict]X shape:\",X.shape)\n",
    "        Z = np.zeros((width, X.shape[0]), dtype=float)\n",
    "        y_hat = np.zeros((X.shape[0], self.output_dim), dtype=float)\n",
    "        print(\"[predict]Z shape:\",Z.shape)\n",
    "        y_predict = list()\n",
    "        for i in range (X.shape[0]):\n",
    "            x = X[i, :]\n",
    "            # print(\"[predict] x: \",x)\n",
    "            x_re = x.reshape(X.shape[1], 1)\n",
    "            # print(\"[predict] x: \",x_re)\n",
    "            # print(\"[predict] w_in:\\n \", self.w_in)\n",
    "            # print(\"[predict] b_in:\\n\", self.b_in)\n",
    "            z = self.w_in.dot(x_re) + self.b_in\n",
    "            # Z[:, i] = z;\n",
    "            a = self.relu(z)\n",
    "            # print(\"[predict] z:\\n \", z)\n",
    "            # print(\"[predict] a:\\n \", a)\n",
    "            for j in range(depth):\n",
    "                z = self.w_hidden[:,:,j].dot(a) + self.b_hidden[:,:, j]\n",
    "                a = self.relu(z)\n",
    "            y_hat[i] = self.w_out.dot(a) + self.b_out\n",
    "            # print(\"[predict] y_hat:\\n \", y_hat)        \n",
    "        return y_hat\n",
    "    \n",
    "    def relu(self, Z):\n",
    "        return np.maximum(0,Z)\n"
   ]
  },
  {
   "cell_type": "code",
   "execution_count": 194,
   "metadata": {},
   "outputs": [
    {
     "name": "stdout",
     "output_type": "stream",
     "text": [
      "input shape: (1052, 5)\n",
      "output shape: (1052,)\n",
      "======INITIAL PARAMETERS======\n",
      "input_dim:  5\n",
      "output_dim:  1\n",
      "width:  10\n",
      "depth:  2\n",
      "learning_rate:  0.01\n",
      "epochs:  1\n",
      "[predict]X shape: (451, 5)\n",
      "[predict]Z shape: (10, 451)\n"
     ]
    }
   ],
   "source": [
    "# Implement your training and evaluation here.\n",
    "print(\"input shape:\", X_train.shape)\n",
    "print(\"output shape:\", y_train.shape)\n",
    "input_dim = X_train.shape[1]\n",
    "output_dim = 1\n",
    "width = 10\n",
    "depth = 2\n",
    "learning_rate = 0.01\n",
    "epochs = 1\n",
    "myFNNC = FeedforwardNeuralNetworkClassifier(input_dim, output_dim, width, depth, learning_rate, epochs)\n",
    "\n",
    "y = myFNNC.predict(X_test)\n",
    "# print(\" y:\\n \", y)\n",
    "\n",
    "def test():\n",
    "    print(X_train[1, :])\n",
    "    x = X_train[1, :]\n",
    "    print(x.reshape(5,1))\n",
    "    one = np.ones(5,dtype=float)\n",
    "    print(one)\n",
    "    one_15 = np.ones((1,5),dtype=float)\n",
    "    print(one_15)\n",
    "    one_reshape = one.reshape(5,1)\n",
    "    print(one_reshape)\n",
    "    pass"
   ]
  },
  {
   "cell_type": "code",
   "execution_count": null,
   "metadata": {},
   "outputs": [],
   "source": []
  }
 ],
 "metadata": {
  "kernelspec": {
   "display_name": "Python 3",
   "language": "python",
   "name": "python3"
  },
  "language_info": {
   "codemirror_mode": {
    "name": "ipython",
    "version": 3
   },
   "file_extension": ".py",
   "mimetype": "text/x-python",
   "name": "python",
   "nbconvert_exporter": "python",
   "pygments_lexer": "ipython3",
   "version": "3.8.0"
  }
 },
 "nbformat": 4,
 "nbformat_minor": 1
}