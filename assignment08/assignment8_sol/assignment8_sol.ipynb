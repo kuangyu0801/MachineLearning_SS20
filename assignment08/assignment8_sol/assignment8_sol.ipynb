{
 "cells": [
  {
   "cell_type": "markdown",
   "metadata": {},
   "source": [
    "# Assignment 8: Neural Networks\n",
    "\n",
    "Only use the already imported library `numpy` and the Python standard library. For the evaluation you may also use scikit-learn (`sklearn`) and `matplotlib`. Make sure that the dataset `airfoil_self_noise.csv` is in the same directory as the notebook.\n",
    "\n",
    "List your team members (name and immatriculation number) and indicate whether you are a B.Sc. Data Science or other group in the following cell:"
   ]
  },
  {
   "cell_type": "code",
   "execution_count": 1,
   "metadata": {},
   "outputs": [],
   "source": [
    "import numpy as np\n",
    "\n",
    "def load_dataset(path):\n",
    "    from sklearn.model_selection import train_test_split\n",
    "    \n",
    "    data = np.genfromtxt(path)\n",
    "    X, y = data[:, :5], data[:, 5]\n",
    "    X_train, X_test, y_train, y_test = train_test_split(X, y, test_size=0.3, random_state=2020)\n",
    "\n",
    "    return X_train, X_test, y_train, y_test\n",
    "    \n",
    "\n",
    "X_train, X_test, y_train, y_test = load_dataset('airfoil_self_noise.csv')"
   ]
  },
  {
   "cell_type": "markdown",
   "metadata": {},
   "source": [
    "## Task 3: Feedforward Neural Network: Programming\n",
    "\n",
    "In this task, you will implement a feedforward neural network for regression. The hyperparameters of the model are:\n",
    "- `input_dim`: The dimension of the input vector.\n",
    "- `output_dim`: The dimension of the output vector.\n",
    "- `width`: The dimension of each hidden layer.\n",
    "- `depth`: The number of hidden layers. For B.Sc. Data Science students, this parameter is constant with a value of 1.\n",
    "- `learning_rate`: The learning rate for gradient descent.\n",
    "- `epochs`: The number of epochs/iterations performed during training.\n",
    "\n",
    "B.Sc. Data Science only have to implement for a single hidden layer, i.e. `depth = 1`. All other students have to implement the network for any `depth >= 1`.\n",
    "\n",
    "The activation function for each hidden layer is ReLU (g(x) = max(0, x)). The output layer uses the identity as activation, since our objective is regression.\n",
    "\n",
    "You have to implement the `FeedforwardNeuralNetworkRegressor`.\n",
    "\n",
    "The `__init__` method initializes the network.\n",
    "Initialize each weight and bias randomly with a standard Gaussian distribution using the numpy function `numpy.random.normal` with default parameters.\n",
    "\n",
    "The `fit` method trains the network.\n",
    "Use backpropagation with gradient descent similar to Task 2.\n",
    "Use the whole training data set for each training epoch.\n",
    "Use the mean squared error as loss function.\n",
    "\n",
    "The `predict` method computes the forward-pass of the network.\n",
    "\n",
    "Evaluate your classifier on the test data with the mean squared error and compare your results to your linear regression model from assignment 3. Try out different hyper-parameters and compare the results. You may want to normalize your input and output data for better performance."
   ]
  },
  {
   "cell_type": "code",
   "execution_count": 2,
   "metadata": {},
   "outputs": [],
   "source": [
    "class FeedforwardNeuralNetworkRegressor(object):\n",
    "    def __init__(self, input_dim, output_dim, width, depth, learning_rate, epochs):\n",
    "        # Store all initialization parameters\n",
    "        self.input_dim = input_dim\n",
    "        self.output_dim = output_dim\n",
    "        self.width = width\n",
    "        self.depth = depth\n",
    "        self.learning_rate = learning_rate\n",
    "        self.epochs = epochs\n",
    "        # Create list for all weights and biases\n",
    "        # Create a randomly initizalized weight and bias matrix for the input layer\n",
    "        self.weights = [np.random.normal(size=(input_dim, width[0]))]\n",
    "        self.biases = [np.random.normal(size=(width[0]))]\n",
    "        # Create a randomly initizalized weight and bias matrix for each hidden layer\n",
    "        for i in range(self.depth-1):\n",
    "            self.weights.append(np.random.normal(size=(width[i], width[i+1])))\n",
    "            self.biases.append(np.random.normal(size=(width[i+1])))\n",
    "        # Create a randomly initizalized weight and bias matrix for the output layer\n",
    "        self.weights.append(np.random.normal(size=(width[depth-1], output_dim)))\n",
    "        self.biases.append(np.random.normal(size=(output_dim)))\n",
    "        \n",
    "    def fit(self, X, y):\n",
    "        errors = np.zeros(self.epochs)\n",
    "        current_ep = self.epochs-1\n",
    "        for ep in range(self.epochs):\n",
    "            self.hidden_z, self.hidden_x, pred = self.forward(X)\n",
    "            errors[ep] = self.mse_loss(pred, y)\n",
    "            if ep > 0 and (errors[ep-1]-errors[ep]) < 1e-5:\n",
    "                current_ep = ep\n",
    "                break\n",
    "            biases_der, weights_der = self.backward(pred, y)\n",
    "            for i in range(self.depth+1):\n",
    "                self.biases[i] -= self.learning_rate * biases_der[self.depth-i]\n",
    "                self.weights[i] -= self.learning_rate * weights_der[self.depth-i]\n",
    "        return errors[:current_ep+1]\n",
    "    \n",
    "    def predict(self, X):\n",
    "        # Run the forward pass and return the predicted output\n",
    "        _, _, pred = self.forward(X)\n",
    "        return pred\n",
    "    \n",
    "    \n",
    "    def relu(self, layer):\n",
    "        return np.maximum(0, layer)\n",
    "    \n",
    "    def relu_der(self, layer):\n",
    "        return 1*(layer > 0)\n",
    "    \n",
    "    def mse_loss(self, y_pred, y_true):\n",
    "        return np.mean((y_pred - y_true)*(y_pred - y_true))\n",
    "    \n",
    "    def mse_loss_der(self, y_pred, y_true):\n",
    "        return 2 * (y_pred - y_true)\n",
    "    \n",
    "    def forward(self, X):\n",
    "        # Implementation of the forward pass\n",
    "        # Store the intermediate results of the hidden layers for the back propagation\n",
    "        hidden_x = [X]\n",
    "        hidden_z = []\n",
    "        for i in range(self.depth):\n",
    "            hidden_z.append(hidden_x[i] @ self.weights[i] + self.biases[i])\n",
    "            hidden_x.append(self.relu(hidden_z[i]))\n",
    "        output = hidden_x[self.depth] @ self.weights[self.depth] + self.biases[self.depth]\n",
    "        \n",
    "        return hidden_z, hidden_x, output\n",
    "    \n",
    "    def backward(self, pred, y):\n",
    "        # delta = intermediate loss derivatives\n",
    "        delta = self.mse_loss_der(pred, y)\n",
    "        biases_der = [np.mean(delta, axis=0)]\n",
    "        weights_der = [(self.hidden_x[self.depth].T @ delta)/len(delta)]\n",
    "        for i in range(self.depth, 0, -1):\n",
    "            delta = delta @ self.weights[i].T\n",
    "            relu_der_z = self.relu_der(self.hidden_z[i-1])\n",
    "            delta = np.multiply(delta, relu_der_z)\n",
    "            biases_der.append(np.mean(delta, axis=0))\n",
    "            weights_der.append((self.hidden_x[i-1].T @ delta)/len(delta))\n",
    "            \n",
    "        return biases_der, weights_der\n"
   ]
  },
  {
   "cell_type": "code",
   "execution_count": 3,
   "metadata": {},
   "outputs": [],
   "source": [
    "y_train = y_train.reshape((-1, 1))\n",
    "y_test = y_test.reshape((-1, 1))\n",
    "\n",
    "def normalizeData(data, minData, maxData):\n",
    "    return (data - minData)/(maxData - minData)\n",
    "\n",
    "Xmin = X_train.min(axis=0)\n",
    "Xmax = X_train.max(axis=0)\n",
    "Ymin = y_train.min(axis=0)\n",
    "Ymax = y_train.max(axis=0)\n",
    "\n",
    "X_train = normalizeData(X_train, Xmin, Xmax)\n",
    "X_test = normalizeData(X_test, Xmin, Xmax)\n",
    "y_train = normalizeData(y_train, Ymin, Ymax)\n",
    "y_test = normalizeData(y_test, Ymin, Ymax)"
   ]
  },
  {
   "cell_type": "code",
   "execution_count": 5,
   "metadata": {},
   "outputs": [
    {
     "name": "stdout",
     "output_type": "stream",
     "text": [
      "Final training error ( Epoch 100 ): 0.018327899799292096\n",
      "Test error: 0.017410832028141643\n"
     ]
    },
    {
     "data": {
      "image/png": "[encoded data removed]",
      "text/plain": [
       "<Figure size 432x288 with 1 Axes>"
      ]
     },
     "metadata": {
      "needs_background": "light"
     },
     "output_type": "display_data"
    }
   ],
   "source": [
    "# Implement your training and evaluation here.\n",
    "import matplotlib.pyplot as plt\n",
    "\n",
    "np.random.seed(2020)\n",
    "\n",
    "input_dim = X_train.shape[1]\n",
    "output_dim = y_train.shape[1]\n",
    "myNN = FeedforwardNeuralNetworkRegressor(input_dim, output_dim, [5], 1, 0.1, 100)\n",
    "train_error = myNN.fit(X_train, y_train)\n",
    "print(\"Final training error ( Epoch\", len(train_error), \"):\", train_error[len(train_error)-1])\n",
    "\n",
    "y_pred = myNN.predict(X_test)\n",
    "test_error = myNN.mse_loss(y_pred, y_test)\n",
    "print(\"Test error:\", test_error)\n",
    "\n",
    "plt.figure()\n",
    "plt.plot(train_error)\n",
    "plt.show()"
   ]
  }
 ],
 "metadata": {
  "kernelspec": {
   "display_name": "Python 3",
   "language": "python",
   "name": "python3"
  },
  "language_info": {
   "codemirror_mode": {
    "name": "ipython",
    "version": 3
   },
   "file_extension": ".py",
   "mimetype": "text/x-python",
   "name": "python",
   "nbconvert_exporter": "python",
   "pygments_lexer": "ipython3",
   "version": "3.6.8"
  }
 },
 "nbformat": 4,
 "nbformat_minor": 1
}
